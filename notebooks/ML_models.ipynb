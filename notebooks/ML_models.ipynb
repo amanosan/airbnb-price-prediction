{
 "cells": [
  {
   "cell_type": "markdown",
   "id": "491e64d3",
   "metadata": {},
   "source": [
    "# Machine Learning Models"
   ]
  },
  {
   "cell_type": "code",
   "execution_count": 1,
   "id": "aa1387d8",
   "metadata": {},
   "outputs": [],
   "source": [
    "# importing the libraries\n",
    "from utils.DataIngestion import get_path\n",
    "from utils.ModelFunctions import rmse_cv\n",
    "\n",
    "import os\n",
    "from pprint import pprint\n",
    "import numpy as np\n",
    "import pandas as pd\n",
    "import matplotlib.pyplot as plt\n",
    "import seaborn as sns\n",
    "from sklearn.model_selection import train_test_split, RandomizedSearchCV, cross_val_score\n",
    "from sklearn.model_selection import GridSearchCV\n",
    "from sklearn.linear_model import LinearRegression, ElasticNet, Lasso, Ridge\n",
    "from sklearn.ensemble import RandomForestRegressor, GradientBoostingRegressor\n",
    "import xgboost as xgb\n",
    "from xgboost.sklearn import XGBRegressor\n",
    "from sklearn.metrics import r2_score, mean_squared_error"
   ]
  },
  {
   "cell_type": "code",
   "execution_count": 2,
   "id": "bd35f999",
   "metadata": {},
   "outputs": [
    {
     "name": "stdout",
     "output_type": "stream",
     "text": [
      "Path: D:\\Machine Learning\\MACHINE LEARNING PROJECTS\\airbnb_price_prediction\\data\n"
     ]
    }
   ],
   "source": [
    "# getting the path\n",
    "path = get_path()\n",
    "print(f\"Path: {path}\")"
   ]
  },
  {
   "cell_type": "markdown",
   "id": "0b80ea3e",
   "metadata": {},
   "source": [
    "## Without using Neighbourhood Feature"
   ]
  },
  {
   "cell_type": "code",
   "execution_count": 3,
   "id": "3105ae1c",
   "metadata": {},
   "outputs": [
    {
     "name": "stdout",
     "output_type": "stream",
     "text": [
      "Shape of the Data: (44977, 14)\n"
     ]
    },
    {
     "data": {
      "text/html": [
       "<div>\n",
       "<style scoped>\n",
       "    .dataframe tbody tr th:only-of-type {\n",
       "        vertical-align: middle;\n",
       "    }\n",
       "\n",
       "    .dataframe tbody tr th {\n",
       "        vertical-align: top;\n",
       "    }\n",
       "\n",
       "    .dataframe thead th {\n",
       "        text-align: right;\n",
       "    }\n",
       "</style>\n",
       "<table border=\"1\" class=\"dataframe\">\n",
       "  <thead>\n",
       "    <tr style=\"text-align: right;\">\n",
       "      <th></th>\n",
       "      <th>neighbourhood_group_Bronx</th>\n",
       "      <th>neighbourhood_group_Brooklyn</th>\n",
       "      <th>neighbourhood_group_Manhattan</th>\n",
       "      <th>neighbourhood_group_Queens</th>\n",
       "      <th>neighbourhood_group_Staten Island</th>\n",
       "      <th>room_type_Entire home/apt</th>\n",
       "      <th>room_type_Private room</th>\n",
       "      <th>room_type_Shared room</th>\n",
       "      <th>minimum_nights</th>\n",
       "      <th>number_of_reviews</th>\n",
       "      <th>reviews_per_month</th>\n",
       "      <th>calculated_host_listings_count</th>\n",
       "      <th>availability_365</th>\n",
       "      <th>price</th>\n",
       "    </tr>\n",
       "  </thead>\n",
       "  <tbody>\n",
       "    <tr>\n",
       "      <th>0</th>\n",
       "      <td>0</td>\n",
       "      <td>1</td>\n",
       "      <td>0</td>\n",
       "      <td>0</td>\n",
       "      <td>0</td>\n",
       "      <td>0</td>\n",
       "      <td>1</td>\n",
       "      <td>0</td>\n",
       "      <td>-0.568515</td>\n",
       "      <td>-0.332158</td>\n",
       "      <td>-0.558263</td>\n",
       "      <td>-0.010976</td>\n",
       "      <td>1.971470</td>\n",
       "      <td>149</td>\n",
       "    </tr>\n",
       "    <tr>\n",
       "      <th>1</th>\n",
       "      <td>0</td>\n",
       "      <td>0</td>\n",
       "      <td>1</td>\n",
       "      <td>0</td>\n",
       "      <td>0</td>\n",
       "      <td>1</td>\n",
       "      <td>0</td>\n",
       "      <td>0</td>\n",
       "      <td>-0.568515</td>\n",
       "      <td>0.459877</td>\n",
       "      <td>-0.452854</td>\n",
       "      <td>-0.145030</td>\n",
       "      <td>1.894569</td>\n",
       "      <td>225</td>\n",
       "    </tr>\n",
       "    <tr>\n",
       "      <th>2</th>\n",
       "      <td>0</td>\n",
       "      <td>0</td>\n",
       "      <td>1</td>\n",
       "      <td>0</td>\n",
       "      <td>0</td>\n",
       "      <td>0</td>\n",
       "      <td>1</td>\n",
       "      <td>0</td>\n",
       "      <td>-0.335855</td>\n",
       "      <td>-0.530167</td>\n",
       "      <td>-0.688475</td>\n",
       "      <td>-0.178543</td>\n",
       "      <td>1.971470</td>\n",
       "      <td>150</td>\n",
       "    </tr>\n",
       "    <tr>\n",
       "      <th>3</th>\n",
       "      <td>0</td>\n",
       "      <td>1</td>\n",
       "      <td>0</td>\n",
       "      <td>0</td>\n",
       "      <td>0</td>\n",
       "      <td>1</td>\n",
       "      <td>0</td>\n",
       "      <td>0</td>\n",
       "      <td>-0.568515</td>\n",
       "      <td>5.410101</td>\n",
       "      <td>2.188590</td>\n",
       "      <td>-0.178543</td>\n",
       "      <td>0.656467</td>\n",
       "      <td>89</td>\n",
       "    </tr>\n",
       "    <tr>\n",
       "      <th>4</th>\n",
       "      <td>0</td>\n",
       "      <td>0</td>\n",
       "      <td>1</td>\n",
       "      <td>0</td>\n",
       "      <td>0</td>\n",
       "      <td>1</td>\n",
       "      <td>0</td>\n",
       "      <td>0</td>\n",
       "      <td>0.478453</td>\n",
       "      <td>-0.332158</td>\n",
       "      <td>-0.626470</td>\n",
       "      <td>-0.178543</td>\n",
       "      <td>-0.835408</td>\n",
       "      <td>80</td>\n",
       "    </tr>\n",
       "  </tbody>\n",
       "</table>\n",
       "</div>"
      ],
      "text/plain": [
       "   neighbourhood_group_Bronx  neighbourhood_group_Brooklyn  \\\n",
       "0                          0                             1   \n",
       "1                          0                             0   \n",
       "2                          0                             0   \n",
       "3                          0                             1   \n",
       "4                          0                             0   \n",
       "\n",
       "   neighbourhood_group_Manhattan  neighbourhood_group_Queens  \\\n",
       "0                              0                           0   \n",
       "1                              1                           0   \n",
       "2                              1                           0   \n",
       "3                              0                           0   \n",
       "4                              1                           0   \n",
       "\n",
       "   neighbourhood_group_Staten Island  room_type_Entire home/apt  \\\n",
       "0                                  0                          0   \n",
       "1                                  0                          1   \n",
       "2                                  0                          0   \n",
       "3                                  0                          1   \n",
       "4                                  0                          1   \n",
       "\n",
       "   room_type_Private room  room_type_Shared room  minimum_nights  \\\n",
       "0                       1                      0       -0.568515   \n",
       "1                       0                      0       -0.568515   \n",
       "2                       1                      0       -0.335855   \n",
       "3                       0                      0       -0.568515   \n",
       "4                       0                      0        0.478453   \n",
       "\n",
       "   number_of_reviews  reviews_per_month  calculated_host_listings_count  \\\n",
       "0          -0.332158          -0.558263                       -0.010976   \n",
       "1           0.459877          -0.452854                       -0.145030   \n",
       "2          -0.530167          -0.688475                       -0.178543   \n",
       "3           5.410101           2.188590                       -0.178543   \n",
       "4          -0.332158          -0.626470                       -0.178543   \n",
       "\n",
       "   availability_365  price  \n",
       "0          1.971470    149  \n",
       "1          1.894569    225  \n",
       "2          1.971470    150  \n",
       "3          0.656467     89  \n",
       "4         -0.835408     80  "
      ]
     },
     "execution_count": 3,
     "metadata": {},
     "output_type": "execute_result"
    }
   ],
   "source": [
    "# loading the data:\n",
    "df = pd.read_pickle(os.path.join(path, \"final_without_neighbourhood.pkl\"))\n",
    "print(f\"Shape of the Data: {df.shape}\")\n",
    "df.head()"
   ]
  },
  {
   "cell_type": "markdown",
   "id": "eb1e12f7",
   "metadata": {},
   "source": [
    "### Train, Validation and Test Splits"
   ]
  },
  {
   "cell_type": "code",
   "execution_count": 4,
   "id": "739cd7d6",
   "metadata": {},
   "outputs": [],
   "source": [
    "# dependent and independent features\n",
    "X = df.drop(['price'], axis=1)\n",
    "y = df['price']"
   ]
  },
  {
   "cell_type": "code",
   "execution_count": 5,
   "id": "53400a6f",
   "metadata": {},
   "outputs": [
    {
     "data": {
      "text/html": [
       "<div>\n",
       "<style scoped>\n",
       "    .dataframe tbody tr th:only-of-type {\n",
       "        vertical-align: middle;\n",
       "    }\n",
       "\n",
       "    .dataframe tbody tr th {\n",
       "        vertical-align: top;\n",
       "    }\n",
       "\n",
       "    .dataframe thead th {\n",
       "        text-align: right;\n",
       "    }\n",
       "</style>\n",
       "<table border=\"1\" class=\"dataframe\">\n",
       "  <thead>\n",
       "    <tr style=\"text-align: right;\">\n",
       "      <th></th>\n",
       "      <th>neighbourhood_group_Bronx</th>\n",
       "      <th>neighbourhood_group_Brooklyn</th>\n",
       "      <th>neighbourhood_group_Manhattan</th>\n",
       "      <th>neighbourhood_group_Queens</th>\n",
       "      <th>neighbourhood_group_Staten Island</th>\n",
       "      <th>room_type_Entire home/apt</th>\n",
       "      <th>room_type_Private room</th>\n",
       "      <th>room_type_Shared room</th>\n",
       "      <th>minimum_nights</th>\n",
       "      <th>number_of_reviews</th>\n",
       "      <th>reviews_per_month</th>\n",
       "      <th>calculated_host_listings_count</th>\n",
       "      <th>availability_365</th>\n",
       "    </tr>\n",
       "  </thead>\n",
       "  <tbody>\n",
       "    <tr>\n",
       "      <th>0</th>\n",
       "      <td>0</td>\n",
       "      <td>1</td>\n",
       "      <td>0</td>\n",
       "      <td>0</td>\n",
       "      <td>0</td>\n",
       "      <td>0</td>\n",
       "      <td>1</td>\n",
       "      <td>0</td>\n",
       "      <td>-0.568515</td>\n",
       "      <td>-0.332158</td>\n",
       "      <td>-0.558263</td>\n",
       "      <td>-0.010976</td>\n",
       "      <td>1.971470</td>\n",
       "    </tr>\n",
       "    <tr>\n",
       "      <th>1</th>\n",
       "      <td>0</td>\n",
       "      <td>0</td>\n",
       "      <td>1</td>\n",
       "      <td>0</td>\n",
       "      <td>0</td>\n",
       "      <td>1</td>\n",
       "      <td>0</td>\n",
       "      <td>0</td>\n",
       "      <td>-0.568515</td>\n",
       "      <td>0.459877</td>\n",
       "      <td>-0.452854</td>\n",
       "      <td>-0.145030</td>\n",
       "      <td>1.894569</td>\n",
       "    </tr>\n",
       "    <tr>\n",
       "      <th>2</th>\n",
       "      <td>0</td>\n",
       "      <td>0</td>\n",
       "      <td>1</td>\n",
       "      <td>0</td>\n",
       "      <td>0</td>\n",
       "      <td>0</td>\n",
       "      <td>1</td>\n",
       "      <td>0</td>\n",
       "      <td>-0.335855</td>\n",
       "      <td>-0.530167</td>\n",
       "      <td>-0.688475</td>\n",
       "      <td>-0.178543</td>\n",
       "      <td>1.971470</td>\n",
       "    </tr>\n",
       "    <tr>\n",
       "      <th>3</th>\n",
       "      <td>0</td>\n",
       "      <td>1</td>\n",
       "      <td>0</td>\n",
       "      <td>0</td>\n",
       "      <td>0</td>\n",
       "      <td>1</td>\n",
       "      <td>0</td>\n",
       "      <td>0</td>\n",
       "      <td>-0.568515</td>\n",
       "      <td>5.410101</td>\n",
       "      <td>2.188590</td>\n",
       "      <td>-0.178543</td>\n",
       "      <td>0.656467</td>\n",
       "    </tr>\n",
       "    <tr>\n",
       "      <th>4</th>\n",
       "      <td>0</td>\n",
       "      <td>0</td>\n",
       "      <td>1</td>\n",
       "      <td>0</td>\n",
       "      <td>0</td>\n",
       "      <td>1</td>\n",
       "      <td>0</td>\n",
       "      <td>0</td>\n",
       "      <td>0.478453</td>\n",
       "      <td>-0.332158</td>\n",
       "      <td>-0.626470</td>\n",
       "      <td>-0.178543</td>\n",
       "      <td>-0.835408</td>\n",
       "    </tr>\n",
       "  </tbody>\n",
       "</table>\n",
       "</div>"
      ],
      "text/plain": [
       "   neighbourhood_group_Bronx  neighbourhood_group_Brooklyn  \\\n",
       "0                          0                             1   \n",
       "1                          0                             0   \n",
       "2                          0                             0   \n",
       "3                          0                             1   \n",
       "4                          0                             0   \n",
       "\n",
       "   neighbourhood_group_Manhattan  neighbourhood_group_Queens  \\\n",
       "0                              0                           0   \n",
       "1                              1                           0   \n",
       "2                              1                           0   \n",
       "3                              0                           0   \n",
       "4                              1                           0   \n",
       "\n",
       "   neighbourhood_group_Staten Island  room_type_Entire home/apt  \\\n",
       "0                                  0                          0   \n",
       "1                                  0                          1   \n",
       "2                                  0                          0   \n",
       "3                                  0                          1   \n",
       "4                                  0                          1   \n",
       "\n",
       "   room_type_Private room  room_type_Shared room  minimum_nights  \\\n",
       "0                       1                      0       -0.568515   \n",
       "1                       0                      0       -0.568515   \n",
       "2                       1                      0       -0.335855   \n",
       "3                       0                      0       -0.568515   \n",
       "4                       0                      0        0.478453   \n",
       "\n",
       "   number_of_reviews  reviews_per_month  calculated_host_listings_count  \\\n",
       "0          -0.332158          -0.558263                       -0.010976   \n",
       "1           0.459877          -0.452854                       -0.145030   \n",
       "2          -0.530167          -0.688475                       -0.178543   \n",
       "3           5.410101           2.188590                       -0.178543   \n",
       "4          -0.332158          -0.626470                       -0.178543   \n",
       "\n",
       "   availability_365  \n",
       "0          1.971470  \n",
       "1          1.894569  \n",
       "2          1.971470  \n",
       "3          0.656467  \n",
       "4         -0.835408  "
      ]
     },
     "execution_count": 5,
     "metadata": {},
     "output_type": "execute_result"
    }
   ],
   "source": [
    "X.head()"
   ]
  },
  {
   "cell_type": "code",
   "execution_count": 6,
   "id": "296cdeba",
   "metadata": {},
   "outputs": [
    {
     "data": {
      "text/plain": [
       "0    149\n",
       "1    225\n",
       "2    150\n",
       "3     89\n",
       "4     80\n",
       "Name: price, dtype: int64"
      ]
     },
     "execution_count": 6,
     "metadata": {},
     "output_type": "execute_result"
    }
   ],
   "source": [
    "y.head()"
   ]
  },
  {
   "cell_type": "code",
   "execution_count": 7,
   "id": "a9e96938",
   "metadata": {},
   "outputs": [],
   "source": [
    "# splitting into the train, validation and test sets\n",
    "X_train, X_test, y_train, y_test = train_test_split(X, y, test_size=0.2, random_state=42)"
   ]
  },
  {
   "cell_type": "code",
   "execution_count": 8,
   "id": "409ae1af",
   "metadata": {},
   "outputs": [
    {
     "name": "stdout",
     "output_type": "stream",
     "text": [
      "Training set: (35981, 13), (35981,)\n",
      "Test set: (8996, 13), (8996,)\n"
     ]
    }
   ],
   "source": [
    "print(f\"Training set: {X_train.shape}, {y_train.shape}\")\n",
    "print(f\"Test set: {X_test.shape}, {y_test.shape}\")"
   ]
  },
  {
   "cell_type": "code",
   "execution_count": 141,
   "id": "2a367fc9",
   "metadata": {},
   "outputs": [
    {
     "data": {
      "text/html": [
       "<div>\n",
       "<style scoped>\n",
       "    .dataframe tbody tr th:only-of-type {\n",
       "        vertical-align: middle;\n",
       "    }\n",
       "\n",
       "    .dataframe tbody tr th {\n",
       "        vertical-align: top;\n",
       "    }\n",
       "\n",
       "    .dataframe thead th {\n",
       "        text-align: right;\n",
       "    }\n",
       "</style>\n",
       "<table border=\"1\" class=\"dataframe\">\n",
       "  <thead>\n",
       "    <tr style=\"text-align: right;\">\n",
       "      <th></th>\n",
       "      <th>model</th>\n",
       "      <th>test_mse</th>\n",
       "      <th>test_r2_score</th>\n",
       "    </tr>\n",
       "  </thead>\n",
       "  <tbody>\n",
       "    <tr>\n",
       "      <th>0</th>\n",
       "      <td>Linear Regression</td>\n",
       "      <td>2135.265736</td>\n",
       "      <td>0.462596</td>\n",
       "    </tr>\n",
       "    <tr>\n",
       "      <th>1</th>\n",
       "      <td>Ridge Regression</td>\n",
       "      <td>2136.151579</td>\n",
       "      <td>0.462373</td>\n",
       "    </tr>\n",
       "    <tr>\n",
       "      <th>2</th>\n",
       "      <td>Lasso Regression</td>\n",
       "      <td>2136.096459</td>\n",
       "      <td>0.462387</td>\n",
       "    </tr>\n",
       "    <tr>\n",
       "      <th>3</th>\n",
       "      <td>RandomForest Regressor</td>\n",
       "      <td>1996.214587</td>\n",
       "      <td>0.497592</td>\n",
       "    </tr>\n",
       "  </tbody>\n",
       "</table>\n",
       "</div>"
      ],
      "text/plain": [
       "                    model     test_mse  test_r2_score\n",
       "0       Linear Regression  2135.265736       0.462596\n",
       "1        Ridge Regression  2136.151579       0.462373\n",
       "2        Lasso Regression  2136.096459       0.462387\n",
       "3  RandomForest Regressor  1996.214587       0.497592"
      ]
     },
     "execution_count": 141,
     "metadata": {},
     "output_type": "execute_result"
    }
   ],
   "source": [
    "# df_metrics = pd.DataFrame(columns=['model', 'test_mse', 'test_r2_score'])\n",
    "df_metrics = pd.read_csv(\"model_metrics.csv\")\n",
    "df_metrics.head()"
   ]
  },
  {
   "cell_type": "markdown",
   "id": "97526021",
   "metadata": {},
   "source": [
    "### Linear Regression"
   ]
  },
  {
   "cell_type": "code",
   "execution_count": 10,
   "id": "be026cd7",
   "metadata": {},
   "outputs": [],
   "source": [
    "lr_model = LinearRegression().fit(X_train, y_train)"
   ]
  },
  {
   "cell_type": "code",
   "execution_count": 11,
   "id": "b2402dec",
   "metadata": {},
   "outputs": [],
   "source": [
    "# predicting \n",
    "y_preds = lr_model.predict(X_test)"
   ]
  },
  {
   "cell_type": "code",
   "execution_count": 12,
   "id": "f2f6ca53",
   "metadata": {},
   "outputs": [
    {
     "name": "stdout",
     "output_type": "stream",
     "text": [
      "MSE: 2135.265735988354\n",
      "R2 Score: 0.4625958467705763\n"
     ]
    }
   ],
   "source": [
    "# getting the scores:\n",
    "mse_lr = mean_squared_error(y_test, y_preds)\n",
    "r2_lr = r2_score(y_test, y_preds)\n",
    "print(f\"MSE: {mse_lr}\")\n",
    "print(f\"R2 Score: {r2_lr}\")"
   ]
  },
  {
   "cell_type": "code",
   "execution_count": 13,
   "id": "e529fed2",
   "metadata": {},
   "outputs": [],
   "source": [
    "# adding to the metrics df:\n",
    "df_metrics.loc[0] = ['Linear Regression', mse_lr, r2_lr]"
   ]
  },
  {
   "cell_type": "code",
   "execution_count": 14,
   "id": "b780880b",
   "metadata": {},
   "outputs": [
    {
     "data": {
      "image/png": "[encoded data removed]",
      "text/plain": [
       "<Figure size 864x432 with 2 Axes>"
      ]
     },
     "metadata": {
      "needs_background": "light"
     },
     "output_type": "display_data"
    }
   ],
   "source": [
    "# visualizing the results\n",
    "fig, ax = plt.subplots(1, 2, figsize=(12, 6))\n",
    "sns.histplot(y_test.values - y_preds, ax=ax[0], kde=True)\n",
    "ax[1].scatter(y_test, y_preds, s=5, color='green')\n",
    "fig.suptitle(\"Linear Regression Results\", fontsize=15)\n",
    "plt.show();"
   ]
  },
  {
   "cell_type": "markdown",
   "id": "c9177f72",
   "metadata": {},
   "source": [
    "### Ridge Regression"
   ]
  },
  {
   "cell_type": "code",
   "execution_count": 94,
   "id": "193d2f29",
   "metadata": {},
   "outputs": [],
   "source": [
    "# cross validation for ridge regression\n",
    "alphas = [100, 150, 200, 300, 500]\n",
    "ridge_errors = [-rmse_cv(Ridge(alpha = alpha), X_train, y_train).mean() for alpha in alphas]"
   ]
  },
  {
   "cell_type": "code",
   "execution_count": 95,
   "id": "bf06bd75",
   "metadata": {},
   "outputs": [
    {
     "data": {
      "image/png": "[encoded data removed]",
      "text/plain": [
       "<Figure size 432x288 with 1 Axes>"
      ]
     },
     "metadata": {
      "needs_background": "light"
     },
     "output_type": "display_data"
    }
   ],
   "source": [
    "plt.figure()\n",
    "plt.plot(alphas, ridge_errors, 'o-')\n",
    "plt.xscale('log')\n",
    "plt.show();"
   ]
  },
  {
   "cell_type": "code",
   "execution_count": 96,
   "id": "cba77dfe",
   "metadata": {},
   "outputs": [
    {
     "name": "stdout",
     "output_type": "stream",
     "text": [
      "Best Alpha value: 100\n"
     ]
    }
   ],
   "source": [
    "# getting the best value of alpha\n",
    "best_alpha = alphas[np.argmin(ridge_errors)]\n",
    "print(f\"Best Alpha value: {best_alpha}\")"
   ]
  },
  {
   "cell_type": "code",
   "execution_count": 98,
   "id": "4616cecf",
   "metadata": {},
   "outputs": [],
   "source": [
    "# fitting the model with best alpha value\n",
    "rr_model = Ridge(alpha=best_alpha).fit(X_train, y_train)"
   ]
  },
  {
   "cell_type": "code",
   "execution_count": 99,
   "id": "2857307f",
   "metadata": {},
   "outputs": [],
   "source": [
    "# predicting \n",
    "y_pred = rr_model.predict(X_test)"
   ]
  },
  {
   "cell_type": "code",
   "execution_count": 100,
   "id": "9d4593f7",
   "metadata": {},
   "outputs": [
    {
     "name": "stdout",
     "output_type": "stream",
     "text": [
      "MSE: 2135.6163270524235\n",
      "R2 Score: 0.4625076099339426\n"
     ]
    }
   ],
   "source": [
    "# getting the scores\n",
    "mse_rr = mean_squared_error(y_test, y_pred)\n",
    "r2_rr = r2_score(y_test, y_pred)\n",
    "print(f\"MSE: {mse_rr}\")\n",
    "print(f\"R2 Score: {r2_rr}\")"
   ]
  },
  {
   "cell_type": "code",
   "execution_count": 101,
   "id": "38616b43",
   "metadata": {},
   "outputs": [],
   "source": [
    "# adding metrics to df\n",
    "df_metrics.loc[1] = ['Ridge Regression', mse_rr, r2_rr]"
   ]
  },
  {
   "cell_type": "markdown",
   "id": "e16dc9d9",
   "metadata": {},
   "source": [
    "### Lasso Regression"
   ]
  },
  {
   "cell_type": "code",
   "execution_count": 102,
   "id": "0592b027",
   "metadata": {},
   "outputs": [],
   "source": [
    "# cross validation for Lasso Regression\n",
    "alphas = [0.005,0.01, 0.05, 0.1, 0.3, 1]\n",
    "lasso_errors = [-rmse_cv(Lasso(alpha=alpha, max_iter=3000), X_train, y_train).mean() for alpha in alphas]"
   ]
  },
  {
   "cell_type": "code",
   "execution_count": 105,
   "id": "c28d510b",
   "metadata": {},
   "outputs": [
    {
     "data": {
      "image/png": "[encoded data removed]",
      "text/plain": [
       "<Figure size 432x288 with 1 Axes>"
      ]
     },
     "metadata": {
      "needs_background": "light"
     },
     "output_type": "display_data"
    }
   ],
   "source": [
    "plt.figure()\n",
    "plt.plot(alphas, lasso_errors, 'o-')\n",
    "plt.xscale('log')\n",
    "plt.show();"
   ]
  },
  {
   "cell_type": "code",
   "execution_count": 106,
   "id": "aeff3be4",
   "metadata": {},
   "outputs": [
    {
     "name": "stdout",
     "output_type": "stream",
     "text": [
      "Best Alpha: 0.005\n"
     ]
    }
   ],
   "source": [
    "# best alpha\n",
    "best_alpha = alphas[np.argmin(lasso_errors)]\n",
    "print(f\"Best Alpha: {best_alpha}\")"
   ]
  },
  {
   "cell_type": "code",
   "execution_count": 107,
   "id": "25dcb080",
   "metadata": {},
   "outputs": [],
   "source": [
    "# fitting the model with best alpha\n",
    "lasso_model = Lasso(alpha=best_alpha).fit(X_train, y_train)"
   ]
  },
  {
   "cell_type": "code",
   "execution_count": 108,
   "id": "0e577d5a",
   "metadata": {},
   "outputs": [],
   "source": [
    "# predicting\n",
    "y_pred = lasso_model.predict(X_test)"
   ]
  },
  {
   "cell_type": "code",
   "execution_count": 110,
   "id": "c1302eee",
   "metadata": {},
   "outputs": [
    {
     "name": "stdout",
     "output_type": "stream",
     "text": [
      "MSE: 2136.096458999271\n",
      "R2 Score: 0.462386770219248\n"
     ]
    }
   ],
   "source": [
    "# getting the scores\n",
    "mse_lasso = mean_squared_error(y_test, y_pred)\n",
    "r2_lasso = r2_score(y_test, y_pred)\n",
    "print(f\"MSE: {mse_lasso}\")\n",
    "print(f\"R2 Score: {r2_lasso}\")"
   ]
  },
  {
   "cell_type": "code",
   "execution_count": 113,
   "id": "5cfe4428",
   "metadata": {},
   "outputs": [],
   "source": [
    "# adding metrics to df\n",
    "df_metrics.loc[2] = ['Lasso Regression', mse_lasso, r2_lasso]"
   ]
  },
  {
   "cell_type": "code",
   "execution_count": 115,
   "id": "22f84408",
   "metadata": {},
   "outputs": [
    {
     "data": {
      "text/html": [
       "<div>\n",
       "<style scoped>\n",
       "    .dataframe tbody tr th:only-of-type {\n",
       "        vertical-align: middle;\n",
       "    }\n",
       "\n",
       "    .dataframe tbody tr th {\n",
       "        vertical-align: top;\n",
       "    }\n",
       "\n",
       "    .dataframe thead th {\n",
       "        text-align: right;\n",
       "    }\n",
       "</style>\n",
       "<table border=\"1\" class=\"dataframe\">\n",
       "  <thead>\n",
       "    <tr style=\"text-align: right;\">\n",
       "      <th></th>\n",
       "      <th>model</th>\n",
       "      <th>test_mse</th>\n",
       "      <th>test_r2_score</th>\n",
       "    </tr>\n",
       "  </thead>\n",
       "  <tbody>\n",
       "    <tr>\n",
       "      <th>0</th>\n",
       "      <td>Linear Regression</td>\n",
       "      <td>2135.265736</td>\n",
       "      <td>0.462596</td>\n",
       "    </tr>\n",
       "    <tr>\n",
       "      <th>1</th>\n",
       "      <td>Ridge Regression</td>\n",
       "      <td>2136.151579</td>\n",
       "      <td>0.462373</td>\n",
       "    </tr>\n",
       "    <tr>\n",
       "      <th>2</th>\n",
       "      <td>Lasso Regression</td>\n",
       "      <td>2136.096459</td>\n",
       "      <td>0.462387</td>\n",
       "    </tr>\n",
       "  </tbody>\n",
       "</table>\n",
       "</div>"
      ],
      "text/plain": [
       "               model     test_mse  test_r2_score\n",
       "0  Linear Regression  2135.265736       0.462596\n",
       "1   Ridge Regression  2136.151579       0.462373\n",
       "2   Lasso Regression  2136.096459       0.462387"
      ]
     },
     "execution_count": 115,
     "metadata": {},
     "output_type": "execute_result"
    }
   ],
   "source": [
    "# comparing results of OLS, Ridge and Lasso\n",
    "df_metrics.head(3)"
   ]
  },
  {
   "cell_type": "markdown",
   "id": "92ad48b9",
   "metadata": {},
   "source": [
    "### Random Forest Regressor"
   ]
  },
  {
   "cell_type": "code",
   "execution_count": 116,
   "id": "8b116cda",
   "metadata": {},
   "outputs": [
    {
     "name": "stdout",
     "output_type": "stream",
     "text": [
      "MSE: 2243.2995427234227\n",
      "R2 Score: 0.4354058743703788\n"
     ]
    }
   ],
   "source": [
    "# RandomForest - Baseline Model\n",
    "rf_model = RandomForestRegressor(random_state=42)\n",
    "rf_model.fit(X_train, y_train)\n",
    "\n",
    "y_pred = rf_model.predict(X_test)\n",
    "print(f\"MSE: {mean_squared_error(y_test, y_pred)}\")\n",
    "print(f\"R2 Score: {r2_score(y_test, y_pred)}\")"
   ]
  },
  {
   "cell_type": "code",
   "execution_count": 125,
   "id": "fbf10656",
   "metadata": {},
   "outputs": [
    {
     "name": "stdout",
     "output_type": "stream",
     "text": [
      "{'max_depth': [5, 14, 24, 33, 43, 52, 62, 71, 81, 90, 100, None],\n",
      " 'max_features': ['auto', 'sqrt'],\n",
      " 'min_samples_leaf': [1, 2, 4],\n",
      " 'min_samples_split': [2, 5, 10],\n",
      " 'n_estimators': [200, 400, 600, 800, 1000, 1200, 1400, 1600, 1800, 2000]}\n"
     ]
    }
   ],
   "source": [
    "# hyperparameter tuning\n",
    "estimator = RandomForestRegressor(random_state=42)\n",
    "\n",
    "n_estimators = [int(x) for x in np.linspace(200, 2000, 10)]\n",
    "max_features = ['auto', 'sqrt']\n",
    "max_depth = [int(x) for x in np.linspace(5, 100, 11)]\n",
    "max_depth.append(None)\n",
    "min_samples_split = [2, 5, 10]\n",
    "min_samples_leaf = [1, 2, 4]\n",
    "\n",
    "params_distribution = {\n",
    "    'n_estimators': n_estimators,\n",
    "    'max_features': max_features,\n",
    "    'max_depth': max_depth,\n",
    "    'min_samples_split': min_samples_split,\n",
    "    'min_samples_leaf': min_samples_leaf\n",
    "}\n",
    "\n",
    "pprint(params_distribution)"
   ]
  },
  {
   "cell_type": "code",
   "execution_count": 127,
   "id": "48240f65",
   "metadata": {},
   "outputs": [
    {
     "name": "stdout",
     "output_type": "stream",
     "text": [
      "Fitting 3 folds for each of 10 candidates, totalling 30 fits\n"
     ]
    },
    {
     "data": {
      "text/plain": [
       "RandomizedSearchCV(cv=3, estimator=RandomForestRegressor(random_state=42),\n",
       "                   n_jobs=2,\n",
       "                   param_distributions={'max_depth': [5, 14, 24, 33, 43, 52, 62,\n",
       "                                                      71, 81, 90, 100, None],\n",
       "                                        'max_features': ['auto', 'sqrt'],\n",
       "                                        'min_samples_leaf': [1, 2, 4],\n",
       "                                        'min_samples_split': [2, 5, 10],\n",
       "                                        'n_estimators': [200, 400, 600, 800,\n",
       "                                                         1000, 1200, 1400, 1600,\n",
       "                                                         1800, 2000]},\n",
       "                   random_state=42, verbose=2)"
      ]
     },
     "execution_count": 127,
     "metadata": {},
     "output_type": "execute_result"
    }
   ],
   "source": [
    "# RandomizedSearchCV\n",
    "rf_model_random = RandomizedSearchCV(estimator=estimator, param_distributions=params_distribution,\n",
    "                                    n_iter=10, cv=3, verbose=2, random_state=42, n_jobs=2)\n",
    "rf_model_random.fit(X_train, y_train)"
   ]
  },
  {
   "cell_type": "code",
   "execution_count": 128,
   "id": "0868502c",
   "metadata": {},
   "outputs": [
    {
     "name": "stdout",
     "output_type": "stream",
     "text": [
      "Best Parameters: {'n_estimators': 200, 'min_samples_split': 2, 'min_samples_leaf': 4, 'max_features': 'sqrt', 'max_depth': 14}\n",
      "Best Estimator: RandomForestRegressor(max_depth=14, max_features='sqrt', min_samples_leaf=4,\n",
      "                      n_estimators=200, random_state=42)\n"
     ]
    }
   ],
   "source": [
    "# getting the best RandomForest Model\n",
    "print(f\"Best Parameters: {rf_model_random.best_params_}\")\n",
    "print(f\"Best Estimator: {rf_model_random.best_estimator_}\")"
   ]
  },
  {
   "cell_type": "code",
   "execution_count": 129,
   "id": "17cd75d4",
   "metadata": {},
   "outputs": [],
   "source": [
    "best_random = rf_model_random.best_estimator_"
   ]
  },
  {
   "cell_type": "code",
   "execution_count": 130,
   "id": "0d470ddb",
   "metadata": {},
   "outputs": [],
   "source": [
    "# fitting and predicting\n",
    "best_random.fit(X_train, y_train)\n",
    "\n",
    "y_pred = best_random.predict(X_test)"
   ]
  },
  {
   "cell_type": "code",
   "execution_count": 131,
   "id": "7ea1a0e7",
   "metadata": {},
   "outputs": [
    {
     "name": "stdout",
     "output_type": "stream",
     "text": [
      "MSE: 1996.2145874933399\n",
      "R2 Score: 0.49759227061285416\n"
     ]
    }
   ],
   "source": [
    "# getting the scores\n",
    "mse_rf = mean_squared_error(y_test, y_pred)\n",
    "r2_rf = r2_score(y_test, y_pred)\n",
    "print(f\"MSE: {mse_rf}\")\n",
    "print(f\"R2 Score: {r2_rf}\")"
   ]
  },
  {
   "cell_type": "code",
   "execution_count": 132,
   "id": "1bb07351",
   "metadata": {},
   "outputs": [],
   "source": [
    "# adding to the df \n",
    "df_metrics.loc[3] = ['RandomForest Regressor', mse_rf, r2_rf]"
   ]
  },
  {
   "cell_type": "code",
   "execution_count": 139,
   "id": "84205698",
   "metadata": {},
   "outputs": [
    {
     "data": {
      "image/png": "[encoded data removed]",
      "text/plain": [
       "<Figure size 864x432 with 2 Axes>"
      ]
     },
     "metadata": {
      "needs_background": "light"
     },
     "output_type": "display_data"
    }
   ],
   "source": [
    "# visualizing the predictions\n",
    "fig, ax = plt.subplots(1, 2, figsize=(12, 6))\n",
    "sns.histplot(y_test.values - y_pred, kde=True, ax=ax[0])\n",
    "ax[1].scatter(y_test, y_pred, s=1, color='green')\n",
    "plt.suptitle(\"Random Forest Results\", fontsize=15)\n",
    "plt.show();"
   ]
  },
  {
   "cell_type": "markdown",
   "id": "73cd0704",
   "metadata": {},
   "source": [
    "### XGBoost Regressor"
   ]
  },
  {
   "cell_type": "code",
   "execution_count": 142,
   "id": "87140635",
   "metadata": {},
   "outputs": [
    {
     "data": {
      "text/plain": [
       "XGBRegressor(base_score=0.5, booster='gbtree', colsample_bylevel=1,\n",
       "             colsample_bynode=1, colsample_bytree=1, enable_categorical=False,\n",
       "             eval_metric=<function mean_squared_error at 0x000001A3B120EF70>,\n",
       "             gamma=0, gpu_id=-1, importance_type=None,\n",
       "             interaction_constraints='', learning_rate=0.300000012,\n",
       "             max_delta_step=0, max_depth=6, min_child_weight=1, missing=nan,\n",
       "             monotone_constraints='()', n_estimators=100, n_jobs=8,\n",
       "             num_parallel_tree=1, predictor='auto', random_state=42,\n",
       "             reg_alpha=0, reg_lambda=1, scale_pos_weight=1, subsample=1,\n",
       "             tree_method='exact', validate_parameters=1, verbosity=None)"
      ]
     },
     "execution_count": 142,
     "metadata": {},
     "output_type": "execute_result"
    }
   ],
   "source": [
    "# xgboost - Baseline Model\n",
    "xgb_model = XGBRegressor(eval_metric=mean_squared_error, random_state=42)\n",
    "xgb_model.fit(X_train, y_train)"
   ]
  },
  {
   "cell_type": "code",
   "execution_count": 143,
   "id": "1d310f5c",
   "metadata": {},
   "outputs": [
    {
     "name": "stdout",
     "output_type": "stream",
     "text": [
      "MSE: 2022.6080250979644\n",
      "R2 Score: 0.49094956439242143\n"
     ]
    }
   ],
   "source": [
    "y_pred = xgb_model.predict(X_test)\n",
    "print(f\"MSE: {mean_squared_error(y_test, y_pred)}\")\n",
    "print(f\"R2 Score: {r2_score(y_test, y_pred)}\")"
   ]
  },
  {
   "cell_type": "code",
   "execution_count": 184,
   "id": "e6c35b27",
   "metadata": {},
   "outputs": [
    {
     "name": "stdout",
     "output_type": "stream",
     "text": [
      "Fitting 5 folds for each of 20 candidates, totalling 100 fits\n"
     ]
    },
    {
     "data": {
      "text/plain": [
       "RandomizedSearchCV(cv=5,\n",
       "                   estimator=XGBRegressor(base_score=None, booster=None,\n",
       "                                          colsample_bylevel=None,\n",
       "                                          colsample_bynode=None,\n",
       "                                          colsample_bytree=None,\n",
       "                                          enable_categorical=False, gamma=None,\n",
       "                                          gpu_id=None, importance_type=None,\n",
       "                                          interaction_constraints=None,\n",
       "                                          learning_rate=None,\n",
       "                                          max_delta_step=None, max_depth=None,\n",
       "                                          min_child_weight=None, missing=nan,\n",
       "                                          monotone_constraints=...\n",
       "                                          validate_parameters=None,\n",
       "                                          verbosity=None),\n",
       "                   n_iter=20,\n",
       "                   param_distributions={'colsample_bylevel': array([0.4, 0.5, 0.6, 0.7, 0.8, 0.9]),\n",
       "                                        'colsample_bytree': array([0.4, 0.5, 0.6, 0.7, 0.8, 0.9]),\n",
       "                                        'learning_rate': [0.01, 0.1, 0.2, 0.3],\n",
       "                                        'max_depth': [3, 5, 6, 10, 15, 20],\n",
       "                                        'n_estimators': [100, 250, 500, 1000],\n",
       "                                        'subsample': array([0.5, 0.6, 0.7, 0.8, 0.9])},\n",
       "                   scoring='neg_mean_squared_error', verbose=1)"
      ]
     },
     "execution_count": 184,
     "metadata": {},
     "output_type": "execute_result"
    }
   ],
   "source": [
    "# hyperparameter tuning using RandomizedSearchCV\n",
    "params = { 'max_depth': [3, 5, 6, 10, 15, 20],\n",
    "           'learning_rate': [0.01, 0.1, 0.2, 0.3],\n",
    "           'subsample': np.arange(0.5, 1.0, 0.1),\n",
    "           'colsample_bytree': np.arange(0.4, 1.0, 0.1),\n",
    "           'colsample_bylevel': np.arange(0.4, 1.0, 0.1),\n",
    "           'n_estimators': [100, 250, 500, 1000]}\n",
    "estimator = XGBRegressor(random_state=42)\n",
    "xgb_model_random = RandomizedSearchCV(estimator=estimator,\n",
    "                         param_distributions=params,\n",
    "                         scoring='neg_mean_squared_error',\n",
    "                         n_iter=20,\n",
    "                         cv=5,\n",
    "                         verbose=1)\n",
    "\n",
    "xgb_model_random.fit(X_train, y_train)"
   ]
  },
  {
   "cell_type": "code",
   "execution_count": 185,
   "id": "635008f1",
   "metadata": {},
   "outputs": [
    {
     "name": "stdout",
     "output_type": "stream",
     "text": [
      "Best Estimator: XGBRegressor(base_score=0.5, booster='gbtree',\n",
      "             colsample_bylevel=0.7999999999999999, colsample_bynode=1,\n",
      "             colsample_bytree=0.7999999999999999, enable_categorical=False,\n",
      "             gamma=0, gpu_id=-1, importance_type=None,\n",
      "             interaction_constraints='', learning_rate=0.01, max_delta_step=0,\n",
      "             max_depth=6, min_child_weight=1, missing=nan,\n",
      "             monotone_constraints='()', n_estimators=1000, n_jobs=8,\n",
      "             num_parallel_tree=1, predictor='auto', random_state=42,\n",
      "             reg_alpha=0, reg_lambda=1, scale_pos_weight=1, subsample=0.5,\n",
      "             tree_method='exact', validate_parameters=1, verbosity=None)\n",
      "Best Score: -1883.3593165609861\n"
     ]
    }
   ],
   "source": [
    "# best estimator and params\n",
    "print(f\"Best Estimator: {xgb_model_random.best_estimator_}\")\n",
    "print(f\"Best Score: {xgb_model_random.best_score_}\")"
   ]
  },
  {
   "cell_type": "code",
   "execution_count": 186,
   "id": "df0aad90",
   "metadata": {},
   "outputs": [],
   "source": [
    "best_xgb = xgb_model_random.best_estimator_"
   ]
  },
  {
   "cell_type": "code",
   "execution_count": 187,
   "id": "d4d2d117",
   "metadata": {},
   "outputs": [],
   "source": [
    "# fitting and predicting\n",
    "best_xgb.fit(X_train, y_train)\n",
    "y_pred = best_xgb.predict(X_test)"
   ]
  },
  {
   "cell_type": "code",
   "execution_count": 189,
   "id": "3c7db337",
   "metadata": {},
   "outputs": [
    {
     "name": "stdout",
     "output_type": "stream",
     "text": [
      "MSE: 1979.384363832277\n",
      "R2 Score: 0.5018281050304607\n"
     ]
    }
   ],
   "source": [
    "# getting the score\n",
    "mse_xgb = mean_squared_error(y_test, y_pred)\n",
    "r2_xgb = r2_score(y_test, y_pred)\n",
    "print(f\"MSE: {mse_xgb}\")\n",
    "print(f\"R2 Score: {r2_xgb}\")"
   ]
  },
  {
   "cell_type": "code",
   "execution_count": 190,
   "id": "50298267",
   "metadata": {},
   "outputs": [],
   "source": [
    "# saving to metrics df\n",
    "df_metrics.loc[4] = ['XGB Regressor', mse_xgb, r2_xgb]"
   ]
  },
  {
   "cell_type": "code",
   "execution_count": 192,
   "id": "5447fe26",
   "metadata": {},
   "outputs": [
    {
     "data": {
      "image/png": "[encoded data removed]",
      "text/plain": [
       "<Figure size 864x432 with 2 Axes>"
      ]
     },
     "metadata": {
      "needs_background": "light"
     },
     "output_type": "display_data"
    }
   ],
   "source": [
    "# visualizing the results:\n",
    "fig, ax = plt.subplots(1, 2, figsize=(12, 6))\n",
    "sns.histplot(y_test - y_pred, kde=True, ax=ax[0])\n",
    "ax[1].scatter(y_test, y_pred, s=1, color='green')\n",
    "plt.suptitle('XGBRegressor Results', fontsize=15)\n",
    "plt.show();"
   ]
  },
  {
   "cell_type": "code",
   "execution_count": 195,
   "id": "5da889c0",
   "metadata": {},
   "outputs": [],
   "source": [
    "# getting the Root Mean Squared Errors:\n",
    "df_metrics['test_rmse'] = np.sqrt(df_metrics['test_mse'])"
   ]
  },
  {
   "cell_type": "code",
   "execution_count": 196,
   "id": "95a12e55",
   "metadata": {},
   "outputs": [
    {
     "data": {
      "text/html": [
       "<div>\n",
       "<style scoped>\n",
       "    .dataframe tbody tr th:only-of-type {\n",
       "        vertical-align: middle;\n",
       "    }\n",
       "\n",
       "    .dataframe tbody tr th {\n",
       "        vertical-align: top;\n",
       "    }\n",
       "\n",
       "    .dataframe thead th {\n",
       "        text-align: right;\n",
       "    }\n",
       "</style>\n",
       "<table border=\"1\" class=\"dataframe\">\n",
       "  <thead>\n",
       "    <tr style=\"text-align: right;\">\n",
       "      <th></th>\n",
       "      <th>model</th>\n",
       "      <th>test_mse</th>\n",
       "      <th>test_r2_score</th>\n",
       "      <th>test_rmse</th>\n",
       "    </tr>\n",
       "  </thead>\n",
       "  <tbody>\n",
       "    <tr>\n",
       "      <th>0</th>\n",
       "      <td>Linear Regression</td>\n",
       "      <td>2135.265736</td>\n",
       "      <td>0.462596</td>\n",
       "      <td>46.208936</td>\n",
       "    </tr>\n",
       "    <tr>\n",
       "      <th>1</th>\n",
       "      <td>Ridge Regression</td>\n",
       "      <td>2136.151579</td>\n",
       "      <td>0.462373</td>\n",
       "      <td>46.218520</td>\n",
       "    </tr>\n",
       "    <tr>\n",
       "      <th>2</th>\n",
       "      <td>Lasso Regression</td>\n",
       "      <td>2136.096459</td>\n",
       "      <td>0.462387</td>\n",
       "      <td>46.217924</td>\n",
       "    </tr>\n",
       "    <tr>\n",
       "      <th>3</th>\n",
       "      <td>RandomForest Regressor</td>\n",
       "      <td>1996.214587</td>\n",
       "      <td>0.497592</td>\n",
       "      <td>44.679017</td>\n",
       "    </tr>\n",
       "    <tr>\n",
       "      <th>4</th>\n",
       "      <td>XGB Regressor</td>\n",
       "      <td>1979.384364</td>\n",
       "      <td>0.501828</td>\n",
       "      <td>44.490273</td>\n",
       "    </tr>\n",
       "  </tbody>\n",
       "</table>\n",
       "</div>"
      ],
      "text/plain": [
       "                    model     test_mse  test_r2_score  test_rmse\n",
       "0       Linear Regression  2135.265736       0.462596  46.208936\n",
       "1        Ridge Regression  2136.151579       0.462373  46.218520\n",
       "2        Lasso Regression  2136.096459       0.462387  46.217924\n",
       "3  RandomForest Regressor  1996.214587       0.497592  44.679017\n",
       "4           XGB Regressor  1979.384364       0.501828  44.490273"
      ]
     },
     "execution_count": 196,
     "metadata": {},
     "output_type": "execute_result"
    }
   ],
   "source": [
    "df_metrics.head()"
   ]
  },
  {
   "cell_type": "code",
   "execution_count": 198,
   "id": "36bd2101",
   "metadata": {},
   "outputs": [],
   "source": [
    "# saving the metrics:\n",
    "df_metrics.to_csv(\"model_metrics.csv\", index=False)"
   ]
  },
  {
   "cell_type": "markdown",
   "id": "e6ac3047",
   "metadata": {},
   "source": [
    "## Using Neighbourhood Feature"
   ]
  },
  {
   "cell_type": "code",
   "execution_count": 3,
   "id": "73145c7a",
   "metadata": {},
   "outputs": [
    {
     "data": {
      "text/plain": [
       "(44977, 233)"
      ]
     },
     "execution_count": 3,
     "metadata": {},
     "output_type": "execute_result"
    }
   ],
   "source": [
    "# importing the data\n",
    "df = pd.read_pickle(os.path.join(path, \"final_with_neighbourhood.pkl\"))\n",
    "df.shape"
   ]
  },
  {
   "cell_type": "code",
   "execution_count": 4,
   "id": "8c9f3f78",
   "metadata": {},
   "outputs": [
    {
     "data": {
      "text/html": [
       "<div>\n",
       "<style scoped>\n",
       "    .dataframe tbody tr th:only-of-type {\n",
       "        vertical-align: middle;\n",
       "    }\n",
       "\n",
       "    .dataframe tbody tr th {\n",
       "        vertical-align: top;\n",
       "    }\n",
       "\n",
       "    .dataframe thead th {\n",
       "        text-align: right;\n",
       "    }\n",
       "</style>\n",
       "<table border=\"1\" class=\"dataframe\">\n",
       "  <thead>\n",
       "    <tr style=\"text-align: right;\">\n",
       "      <th></th>\n",
       "      <th>neighbourhood_group_Bronx</th>\n",
       "      <th>neighbourhood_group_Brooklyn</th>\n",
       "      <th>neighbourhood_group_Manhattan</th>\n",
       "      <th>neighbourhood_group_Queens</th>\n",
       "      <th>neighbourhood_group_Staten Island</th>\n",
       "      <th>room_type_Entire home/apt</th>\n",
       "      <th>room_type_Private room</th>\n",
       "      <th>room_type_Shared room</th>\n",
       "      <th>neighbourhood_Allerton</th>\n",
       "      <th>neighbourhood_Arden Heights</th>\n",
       "      <th>...</th>\n",
       "      <th>neighbourhood_Windsor Terrace</th>\n",
       "      <th>neighbourhood_Woodhaven</th>\n",
       "      <th>neighbourhood_Woodlawn</th>\n",
       "      <th>neighbourhood_Woodside</th>\n",
       "      <th>minimum_nights</th>\n",
       "      <th>number_of_reviews</th>\n",
       "      <th>reviews_per_month</th>\n",
       "      <th>calculated_host_listings_count</th>\n",
       "      <th>availability_365</th>\n",
       "      <th>price</th>\n",
       "    </tr>\n",
       "  </thead>\n",
       "  <tbody>\n",
       "    <tr>\n",
       "      <th>0</th>\n",
       "      <td>0</td>\n",
       "      <td>1</td>\n",
       "      <td>0</td>\n",
       "      <td>0</td>\n",
       "      <td>0</td>\n",
       "      <td>0</td>\n",
       "      <td>1</td>\n",
       "      <td>0</td>\n",
       "      <td>0</td>\n",
       "      <td>0</td>\n",
       "      <td>...</td>\n",
       "      <td>0</td>\n",
       "      <td>0</td>\n",
       "      <td>0</td>\n",
       "      <td>0</td>\n",
       "      <td>-0.568515</td>\n",
       "      <td>-0.332158</td>\n",
       "      <td>-0.558263</td>\n",
       "      <td>-0.010976</td>\n",
       "      <td>1.971470</td>\n",
       "      <td>149</td>\n",
       "    </tr>\n",
       "    <tr>\n",
       "      <th>1</th>\n",
       "      <td>0</td>\n",
       "      <td>0</td>\n",
       "      <td>1</td>\n",
       "      <td>0</td>\n",
       "      <td>0</td>\n",
       "      <td>1</td>\n",
       "      <td>0</td>\n",
       "      <td>0</td>\n",
       "      <td>0</td>\n",
       "      <td>0</td>\n",
       "      <td>...</td>\n",
       "      <td>0</td>\n",
       "      <td>0</td>\n",
       "      <td>0</td>\n",
       "      <td>0</td>\n",
       "      <td>-0.568515</td>\n",
       "      <td>0.459877</td>\n",
       "      <td>-0.452854</td>\n",
       "      <td>-0.145030</td>\n",
       "      <td>1.894569</td>\n",
       "      <td>225</td>\n",
       "    </tr>\n",
       "    <tr>\n",
       "      <th>2</th>\n",
       "      <td>0</td>\n",
       "      <td>0</td>\n",
       "      <td>1</td>\n",
       "      <td>0</td>\n",
       "      <td>0</td>\n",
       "      <td>0</td>\n",
       "      <td>1</td>\n",
       "      <td>0</td>\n",
       "      <td>0</td>\n",
       "      <td>0</td>\n",
       "      <td>...</td>\n",
       "      <td>0</td>\n",
       "      <td>0</td>\n",
       "      <td>0</td>\n",
       "      <td>0</td>\n",
       "      <td>-0.335855</td>\n",
       "      <td>-0.530167</td>\n",
       "      <td>-0.688475</td>\n",
       "      <td>-0.178543</td>\n",
       "      <td>1.971470</td>\n",
       "      <td>150</td>\n",
       "    </tr>\n",
       "    <tr>\n",
       "      <th>3</th>\n",
       "      <td>0</td>\n",
       "      <td>1</td>\n",
       "      <td>0</td>\n",
       "      <td>0</td>\n",
       "      <td>0</td>\n",
       "      <td>1</td>\n",
       "      <td>0</td>\n",
       "      <td>0</td>\n",
       "      <td>0</td>\n",
       "      <td>0</td>\n",
       "      <td>...</td>\n",
       "      <td>0</td>\n",
       "      <td>0</td>\n",
       "      <td>0</td>\n",
       "      <td>0</td>\n",
       "      <td>-0.568515</td>\n",
       "      <td>5.410101</td>\n",
       "      <td>2.188590</td>\n",
       "      <td>-0.178543</td>\n",
       "      <td>0.656467</td>\n",
       "      <td>89</td>\n",
       "    </tr>\n",
       "    <tr>\n",
       "      <th>4</th>\n",
       "      <td>0</td>\n",
       "      <td>0</td>\n",
       "      <td>1</td>\n",
       "      <td>0</td>\n",
       "      <td>0</td>\n",
       "      <td>1</td>\n",
       "      <td>0</td>\n",
       "      <td>0</td>\n",
       "      <td>0</td>\n",
       "      <td>0</td>\n",
       "      <td>...</td>\n",
       "      <td>0</td>\n",
       "      <td>0</td>\n",
       "      <td>0</td>\n",
       "      <td>0</td>\n",
       "      <td>0.478453</td>\n",
       "      <td>-0.332158</td>\n",
       "      <td>-0.626470</td>\n",
       "      <td>-0.178543</td>\n",
       "      <td>-0.835408</td>\n",
       "      <td>80</td>\n",
       "    </tr>\n",
       "  </tbody>\n",
       "</table>\n",
       "<p>5 rows × 233 columns</p>\n",
       "</div>"
      ],
      "text/plain": [
       "   neighbourhood_group_Bronx  neighbourhood_group_Brooklyn  \\\n",
       "0                          0                             1   \n",
       "1                          0                             0   \n",
       "2                          0                             0   \n",
       "3                          0                             1   \n",
       "4                          0                             0   \n",
       "\n",
       "   neighbourhood_group_Manhattan  neighbourhood_group_Queens  \\\n",
       "0                              0                           0   \n",
       "1                              1                           0   \n",
       "2                              1                           0   \n",
       "3                              0                           0   \n",
       "4                              1                           0   \n",
       "\n",
       "   neighbourhood_group_Staten Island  room_type_Entire home/apt  \\\n",
       "0                                  0                          0   \n",
       "1                                  0                          1   \n",
       "2                                  0                          0   \n",
       "3                                  0                          1   \n",
       "4                                  0                          1   \n",
       "\n",
       "   room_type_Private room  room_type_Shared room  neighbourhood_Allerton  \\\n",
       "0                       1                      0                       0   \n",
       "1                       0                      0                       0   \n",
       "2                       1                      0                       0   \n",
       "3                       0                      0                       0   \n",
       "4                       0                      0                       0   \n",
       "\n",
       "   neighbourhood_Arden Heights  ...  neighbourhood_Windsor Terrace  \\\n",
       "0                            0  ...                              0   \n",
       "1                            0  ...                              0   \n",
       "2                            0  ...                              0   \n",
       "3                            0  ...                              0   \n",
       "4                            0  ...                              0   \n",
       "\n",
       "   neighbourhood_Woodhaven  neighbourhood_Woodlawn  neighbourhood_Woodside  \\\n",
       "0                        0                       0                       0   \n",
       "1                        0                       0                       0   \n",
       "2                        0                       0                       0   \n",
       "3                        0                       0                       0   \n",
       "4                        0                       0                       0   \n",
       "\n",
       "   minimum_nights  number_of_reviews  reviews_per_month  \\\n",
       "0       -0.568515          -0.332158          -0.558263   \n",
       "1       -0.568515           0.459877          -0.452854   \n",
       "2       -0.335855          -0.530167          -0.688475   \n",
       "3       -0.568515           5.410101           2.188590   \n",
       "4        0.478453          -0.332158          -0.626470   \n",
       "\n",
       "   calculated_host_listings_count  availability_365  price  \n",
       "0                       -0.010976          1.971470    149  \n",
       "1                       -0.145030          1.894569    225  \n",
       "2                       -0.178543          1.971470    150  \n",
       "3                       -0.178543          0.656467     89  \n",
       "4                       -0.178543         -0.835408     80  \n",
       "\n",
       "[5 rows x 233 columns]"
      ]
     },
     "execution_count": 4,
     "metadata": {},
     "output_type": "execute_result"
    }
   ],
   "source": [
    "df.head()"
   ]
  },
  {
   "cell_type": "code",
   "execution_count": 5,
   "id": "1b0a74e1",
   "metadata": {},
   "outputs": [
    {
     "name": "stdout",
     "output_type": "stream",
     "text": [
      "Training: (35981, 232) (35981,)\n",
      "Test Set: (8996, 232) (8996,)\n"
     ]
    }
   ],
   "source": [
    "# splitting into train and test features\n",
    "X = df.drop('price', axis=1)\n",
    "y = df['price']\n",
    "X_train, X_test, y_train, y_test = train_test_split(X, y, test_size=0.2, random_state=42)\n",
    "\n",
    "print(\"Training:\", X_train.shape, y_train.shape)\n",
    "print(\"Test Set:\", X_test.shape, y_test.shape)"
   ]
  },
  {
   "cell_type": "code",
   "execution_count": 6,
   "id": "dc6fcc1f",
   "metadata": {},
   "outputs": [],
   "source": [
    "# storing the results in a DataFrame\n",
    "metrics = pd.DataFrame(columns=['model', 'mse', 'r2_score'])"
   ]
  },
  {
   "cell_type": "code",
   "execution_count": 7,
   "id": "6d214bf8",
   "metadata": {},
   "outputs": [
    {
     "data": {
      "text/html": [
       "<div>\n",
       "<style scoped>\n",
       "    .dataframe tbody tr th:only-of-type {\n",
       "        vertical-align: middle;\n",
       "    }\n",
       "\n",
       "    .dataframe tbody tr th {\n",
       "        vertical-align: top;\n",
       "    }\n",
       "\n",
       "    .dataframe thead th {\n",
       "        text-align: right;\n",
       "    }\n",
       "</style>\n",
       "<table border=\"1\" class=\"dataframe\">\n",
       "  <thead>\n",
       "    <tr style=\"text-align: right;\">\n",
       "      <th></th>\n",
       "      <th>model</th>\n",
       "      <th>mse</th>\n",
       "      <th>r2_score</th>\n",
       "    </tr>\n",
       "  </thead>\n",
       "  <tbody>\n",
       "  </tbody>\n",
       "</table>\n",
       "</div>"
      ],
      "text/plain": [
       "Empty DataFrame\n",
       "Columns: [model, mse, r2_score]\n",
       "Index: []"
      ]
     },
     "execution_count": 7,
     "metadata": {},
     "output_type": "execute_result"
    }
   ],
   "source": [
    "metrics.head()"
   ]
  },
  {
   "cell_type": "markdown",
   "id": "1a89b2aa",
   "metadata": {},
   "source": [
    "### Linear Regression"
   ]
  },
  {
   "cell_type": "code",
   "execution_count": 8,
   "id": "84201b64",
   "metadata": {},
   "outputs": [
    {
     "data": {
      "text/plain": [
       "LinearRegression()"
      ]
     },
     "execution_count": 8,
     "metadata": {},
     "output_type": "execute_result"
    }
   ],
   "source": [
    "lr_model = LinearRegression()\n",
    "lr_model.fit(X_train, y_train)"
   ]
  },
  {
   "cell_type": "code",
   "execution_count": 9,
   "id": "586b6dd6",
   "metadata": {},
   "outputs": [
    {
     "name": "stdout",
     "output_type": "stream",
     "text": [
      "MSE: 6.174823314579726e+22\n",
      "R2 Score: -1.5540808990582331e+19\n"
     ]
    }
   ],
   "source": [
    "# getting predictions and scores\n",
    "y_pred = lr_model.predict(X_test)\n",
    "mse_lr = mean_squared_error(y_test, y_pred)\n",
    "r2_lr = r2_score(y_test, y_pred)\n",
    "\n",
    "print(f\"MSE: {mse_lr}\")\n",
    "print(f\"R2 Score: {r2_lr}\")"
   ]
  },
  {
   "cell_type": "markdown",
   "id": "442816ce",
   "metadata": {},
   "source": [
    "### Ridge Regression"
   ]
  },
  {
   "cell_type": "code",
   "execution_count": 10,
   "id": "4e4703bb",
   "metadata": {},
   "outputs": [],
   "source": [
    "alphas = [0.05, 0.1, 0.3, 1, 3, 5, 10, 15, 30, 50, 75]\n",
    "ridge_errors = [-rmse_cv(Ridge(alpha=alpha), X_train, y_train).mean() for alpha in alphas]"
   ]
  },
  {
   "cell_type": "code",
   "execution_count": 11,
   "id": "49bff85b",
   "metadata": {},
   "outputs": [
    {
     "data": {
      "image/png": "[encoded data removed]",
      "text/plain": [
       "<Figure size 432x288 with 1 Axes>"
      ]
     },
     "metadata": {
      "needs_background": "light"
     },
     "output_type": "display_data"
    }
   ],
   "source": [
    "# plotting the results:\n",
    "plt.figure()\n",
    "plt.plot(alphas, ridge_errors, 'o-')\n",
    "plt.xscale('log')\n",
    "plt.show();"
   ]
  },
  {
   "cell_type": "code",
   "execution_count": 12,
   "id": "0a73e3ee",
   "metadata": {},
   "outputs": [
    {
     "data": {
      "text/html": [
       "<div>\n",
       "<style scoped>\n",
       "    .dataframe tbody tr th:only-of-type {\n",
       "        vertical-align: middle;\n",
       "    }\n",
       "\n",
       "    .dataframe tbody tr th {\n",
       "        vertical-align: top;\n",
       "    }\n",
       "\n",
       "    .dataframe thead th {\n",
       "        text-align: right;\n",
       "    }\n",
       "</style>\n",
       "<table border=\"1\" class=\"dataframe\">\n",
       "  <thead>\n",
       "    <tr style=\"text-align: right;\">\n",
       "      <th></th>\n",
       "      <th>alpha</th>\n",
       "      <th>mse</th>\n",
       "    </tr>\n",
       "  </thead>\n",
       "  <tbody>\n",
       "    <tr>\n",
       "      <th>0</th>\n",
       "      <td>0.05</td>\n",
       "      <td>1795.599888</td>\n",
       "    </tr>\n",
       "    <tr>\n",
       "      <th>1</th>\n",
       "      <td>0.10</td>\n",
       "      <td>1795.266681</td>\n",
       "    </tr>\n",
       "    <tr>\n",
       "      <th>2</th>\n",
       "      <td>0.30</td>\n",
       "      <td>1794.226031</td>\n",
       "    </tr>\n",
       "    <tr>\n",
       "      <th>3</th>\n",
       "      <td>1.00</td>\n",
       "      <td>1792.298940</td>\n",
       "    </tr>\n",
       "    <tr>\n",
       "      <th>4</th>\n",
       "      <td>3.00</td>\n",
       "      <td>1790.389234</td>\n",
       "    </tr>\n",
       "    <tr>\n",
       "      <th>5</th>\n",
       "      <td>5.00</td>\n",
       "      <td>1789.727521</td>\n",
       "    </tr>\n",
       "    <tr>\n",
       "      <th>6</th>\n",
       "      <td>10.00</td>\n",
       "      <td>1789.472265</td>\n",
       "    </tr>\n",
       "    <tr>\n",
       "      <th>7</th>\n",
       "      <td>15.00</td>\n",
       "      <td>1789.934661</td>\n",
       "    </tr>\n",
       "    <tr>\n",
       "      <th>8</th>\n",
       "      <td>30.00</td>\n",
       "      <td>1792.573368</td>\n",
       "    </tr>\n",
       "    <tr>\n",
       "      <th>9</th>\n",
       "      <td>50.00</td>\n",
       "      <td>1796.852798</td>\n",
       "    </tr>\n",
       "    <tr>\n",
       "      <th>10</th>\n",
       "      <td>75.00</td>\n",
       "      <td>1802.324873</td>\n",
       "    </tr>\n",
       "  </tbody>\n",
       "</table>\n",
       "</div>"
      ],
      "text/plain": [
       "    alpha          mse\n",
       "0    0.05  1795.599888\n",
       "1    0.10  1795.266681\n",
       "2    0.30  1794.226031\n",
       "3    1.00  1792.298940\n",
       "4    3.00  1790.389234\n",
       "5    5.00  1789.727521\n",
       "6   10.00  1789.472265\n",
       "7   15.00  1789.934661\n",
       "8   30.00  1792.573368\n",
       "9   50.00  1796.852798\n",
       "10  75.00  1802.324873"
      ]
     },
     "execution_count": 12,
     "metadata": {},
     "output_type": "execute_result"
    }
   ],
   "source": [
    "# getting the Alpha and Errors:\n",
    "pd.DataFrame({'alpha': alphas, 'mse': ridge_errors})"
   ]
  },
  {
   "cell_type": "code",
   "execution_count": 13,
   "id": "999ba138",
   "metadata": {},
   "outputs": [],
   "source": [
    "# getting a closer look at the alphas:\n",
    "alphas = [1.5 * i for i in range(2, 10)]\n",
    "ridge_errors = [-rmse_cv(Ridge(alpha=alpha), X_train, y_train).mean() for alpha in alphas]"
   ]
  },
  {
   "cell_type": "code",
   "execution_count": 14,
   "id": "0047bb4f",
   "metadata": {},
   "outputs": [
    {
     "data": {
      "image/png": "[encoded data removed]",
      "text/plain": [
       "<Figure size 432x288 with 1 Axes>"
      ]
     },
     "metadata": {
      "needs_background": "light"
     },
     "output_type": "display_data"
    }
   ],
   "source": [
    "# plotting the results\n",
    "plt.figure()\n",
    "plt.plot(alphas, ridge_errors, 'o-')\n",
    "plt.xscale('log')\n",
    "plt.show();"
   ]
  },
  {
   "cell_type": "code",
   "execution_count": 15,
   "id": "4305d0c5",
   "metadata": {},
   "outputs": [
    {
     "name": "stdout",
     "output_type": "stream",
     "text": [
      "Best Alpha value: 9.0\n"
     ]
    }
   ],
   "source": [
    "# getting the best alpha\n",
    "best_alpha = alphas[np.argmin(ridge_errors)]\n",
    "print(f\"Best Alpha value: {best_alpha}\")"
   ]
  },
  {
   "cell_type": "code",
   "execution_count": 16,
   "id": "8ccef6c9",
   "metadata": {},
   "outputs": [
    {
     "data": {
      "text/plain": [
       "Ridge(alpha=9.0)"
      ]
     },
     "execution_count": 16,
     "metadata": {},
     "output_type": "execute_result"
    }
   ],
   "source": [
    "rr_model = Ridge(alpha=best_alpha)\n",
    "rr_model.fit(X_train, y_train)"
   ]
  },
  {
   "cell_type": "code",
   "execution_count": 17,
   "id": "6f11010d",
   "metadata": {},
   "outputs": [
    {
     "name": "stdout",
     "output_type": "stream",
     "text": [
      "MSE: 1866.2714232559415\n",
      "R2 score: 0.5302963949604628\n"
     ]
    }
   ],
   "source": [
    "# getting predictions and scores\n",
    "y_pred = rr_model.predict(X_test)\n",
    "mse_rr = mean_squared_error(y_test, y_pred)\n",
    "r2_rr = r2_score(y_test, y_pred)\n",
    "\n",
    "print(f\"MSE: {mse_rr}\")\n",
    "print(f\"R2 score: {r2_rr}\")"
   ]
  },
  {
   "cell_type": "code",
   "execution_count": 18,
   "id": "8a215872",
   "metadata": {},
   "outputs": [],
   "source": [
    "# storing the metrics in the df\n",
    "metrics.loc[0] = ['RidgeRegression', mse_rr, r2_rr]"
   ]
  },
  {
   "cell_type": "markdown",
   "id": "2433d3d9",
   "metadata": {},
   "source": [
    "### Lasso Regression"
   ]
  },
  {
   "cell_type": "code",
   "execution_count": 19,
   "id": "5ceff600",
   "metadata": {},
   "outputs": [
    {
     "name": "stderr",
     "output_type": "stream",
     "text": [
      "d:\\machine learning\\machine learning projects\\airbnb_price_prediction\\venv\\lib\\site-packages\\sklearn\\linear_model\\_coordinate_descent.py:647: ConvergenceWarning: Objective did not converge. You might want to increase the number of iterations, check the scale of the features or consider increasing regularisation. Duality gap: 2.997e+06, tolerance: 1.142e+04\n",
      "  model = cd_fast.enet_coordinate_descent(\n",
      "d:\\machine learning\\machine learning projects\\airbnb_price_prediction\\venv\\lib\\site-packages\\sklearn\\linear_model\\_coordinate_descent.py:647: ConvergenceWarning: Objective did not converge. You might want to increase the number of iterations, check the scale of the features or consider increasing regularisation. Duality gap: 4.088e+06, tolerance: 1.149e+04\n",
      "  model = cd_fast.enet_coordinate_descent(\n",
      "d:\\machine learning\\machine learning projects\\airbnb_price_prediction\\venv\\lib\\site-packages\\sklearn\\linear_model\\_coordinate_descent.py:647: ConvergenceWarning: Objective did not converge. You might want to increase the number of iterations, check the scale of the features or consider increasing regularisation. Duality gap: 3.079e+06, tolerance: 1.149e+04\n",
      "  model = cd_fast.enet_coordinate_descent(\n",
      "d:\\machine learning\\machine learning projects\\airbnb_price_prediction\\venv\\lib\\site-packages\\sklearn\\linear_model\\_coordinate_descent.py:647: ConvergenceWarning: Objective did not converge. You might want to increase the number of iterations, check the scale of the features or consider increasing regularisation. Duality gap: 2.994e+06, tolerance: 1.140e+04\n",
      "  model = cd_fast.enet_coordinate_descent(\n",
      "d:\\machine learning\\machine learning projects\\airbnb_price_prediction\\venv\\lib\\site-packages\\sklearn\\linear_model\\_coordinate_descent.py:647: ConvergenceWarning: Objective did not converge. You might want to increase the number of iterations, check the scale of the features or consider increasing regularisation. Duality gap: 2.988e+06, tolerance: 1.152e+04\n",
      "  model = cd_fast.enet_coordinate_descent(\n"
     ]
    }
   ],
   "source": [
    "alphas = [0.0005, 0.005,0.01, 0.05, 0.1, 0.3, 1]\n",
    "lasso_errors = [-rmse_cv(Lasso(alpha=alpha, max_iter=3000), X_train, y_train).mean() for alpha in alphas]"
   ]
  },
  {
   "cell_type": "code",
   "execution_count": 20,
   "id": "1c9acb97",
   "metadata": {},
   "outputs": [
    {
     "data": {
      "image/png": "[encoded data removed]",
      "text/plain": [
       "<Figure size 432x288 with 1 Axes>"
      ]
     },
     "metadata": {
      "needs_background": "light"
     },
     "output_type": "display_data"
    }
   ],
   "source": [
    "# plotting alpha vs error\n",
    "plt.figure()\n",
    "plt.plot(alphas, lasso_errors, 'o-')\n",
    "plt.xscale('log')\n",
    "plt.show();"
   ]
  },
  {
   "cell_type": "code",
   "execution_count": 21,
   "id": "3d3fa9d7",
   "metadata": {},
   "outputs": [
    {
     "data": {
      "text/html": [
       "<div>\n",
       "<style scoped>\n",
       "    .dataframe tbody tr th:only-of-type {\n",
       "        vertical-align: middle;\n",
       "    }\n",
       "\n",
       "    .dataframe tbody tr th {\n",
       "        vertical-align: top;\n",
       "    }\n",
       "\n",
       "    .dataframe thead th {\n",
       "        text-align: right;\n",
       "    }\n",
       "</style>\n",
       "<table border=\"1\" class=\"dataframe\">\n",
       "  <thead>\n",
       "    <tr style=\"text-align: right;\">\n",
       "      <th></th>\n",
       "      <th>alphas</th>\n",
       "      <th>mse</th>\n",
       "    </tr>\n",
       "  </thead>\n",
       "  <tbody>\n",
       "    <tr>\n",
       "      <th>0</th>\n",
       "      <td>0.0005</td>\n",
       "      <td>1794.008972</td>\n",
       "    </tr>\n",
       "    <tr>\n",
       "      <th>1</th>\n",
       "      <td>0.0050</td>\n",
       "      <td>1788.479506</td>\n",
       "    </tr>\n",
       "    <tr>\n",
       "      <th>2</th>\n",
       "      <td>0.0100</td>\n",
       "      <td>1790.045842</td>\n",
       "    </tr>\n",
       "    <tr>\n",
       "      <th>3</th>\n",
       "      <td>0.0500</td>\n",
       "      <td>1815.767468</td>\n",
       "    </tr>\n",
       "    <tr>\n",
       "      <th>4</th>\n",
       "      <td>0.1000</td>\n",
       "      <td>1845.655618</td>\n",
       "    </tr>\n",
       "    <tr>\n",
       "      <th>5</th>\n",
       "      <td>0.3000</td>\n",
       "      <td>1921.938032</td>\n",
       "    </tr>\n",
       "    <tr>\n",
       "      <th>6</th>\n",
       "      <td>1.0000</td>\n",
       "      <td>2043.069701</td>\n",
       "    </tr>\n",
       "  </tbody>\n",
       "</table>\n",
       "</div>"
      ],
      "text/plain": [
       "   alphas          mse\n",
       "0  0.0005  1794.008972\n",
       "1  0.0050  1788.479506\n",
       "2  0.0100  1790.045842\n",
       "3  0.0500  1815.767468\n",
       "4  0.1000  1845.655618\n",
       "5  0.3000  1921.938032\n",
       "6  1.0000  2043.069701"
      ]
     },
     "execution_count": 21,
     "metadata": {},
     "output_type": "execute_result"
    }
   ],
   "source": [
    "pd.DataFrame({'alphas': alphas, 'mse': lasso_errors})"
   ]
  },
  {
   "cell_type": "code",
   "execution_count": 22,
   "id": "1b975a8c",
   "metadata": {},
   "outputs": [
    {
     "name": "stdout",
     "output_type": "stream",
     "text": [
      "Best Alpha value: 0.005\n"
     ]
    }
   ],
   "source": [
    "# best alpha\n",
    "best_alpha = alphas[np.argmin(lasso_errors)]\n",
    "print(f\"Best Alpha value: {best_alpha}\")"
   ]
  },
  {
   "cell_type": "code",
   "execution_count": 23,
   "id": "f4c46534",
   "metadata": {},
   "outputs": [
    {
     "name": "stderr",
     "output_type": "stream",
     "text": [
      "d:\\machine learning\\machine learning projects\\airbnb_price_prediction\\venv\\lib\\site-packages\\sklearn\\linear_model\\_coordinate_descent.py:647: ConvergenceWarning: Objective did not converge. You might want to increase the number of iterations, check the scale of the features or consider increasing regularisation. Duality gap: 4.404e+05, tolerance: 1.433e+04\n",
      "  model = cd_fast.enet_coordinate_descent(\n"
     ]
    },
    {
     "data": {
      "text/plain": [
       "Lasso(alpha=0.005)"
      ]
     },
     "execution_count": 23,
     "metadata": {},
     "output_type": "execute_result"
    }
   ],
   "source": [
    "lasso_model = Lasso(alpha=best_alpha)\n",
    "lasso_model.fit(X_train, y_train)"
   ]
  },
  {
   "cell_type": "code",
   "execution_count": 24,
   "id": "35528701",
   "metadata": {},
   "outputs": [
    {
     "name": "stdout",
     "output_type": "stream",
     "text": [
      "MSE: 1866.7637756774716\n",
      "R2 Score: 0.5301724795939942\n"
     ]
    }
   ],
   "source": [
    "# getting predictions and scores\n",
    "y_pred = lasso_model.predict(X_test)\n",
    "mse_lasso = mean_squared_error(y_test, y_pred)\n",
    "r2_lasso = r2_score(y_test, y_pred)\n",
    "\n",
    "print(f\"MSE: {mse_lasso}\")\n",
    "print(f\"R2 Score: {r2_lasso}\")"
   ]
  },
  {
   "cell_type": "code",
   "execution_count": 25,
   "id": "23fbec6f",
   "metadata": {},
   "outputs": [],
   "source": [
    "# storing the metrics\n",
    "metrics.loc[1] = ['LassoRegression', mse_lasso, r2_lasso]"
   ]
  },
  {
   "cell_type": "markdown",
   "id": "219cd776",
   "metadata": {},
   "source": [
    "### Random Forest Regressor"
   ]
  },
  {
   "cell_type": "code",
   "execution_count": 26,
   "id": "879784de",
   "metadata": {},
   "outputs": [
    {
     "name": "stdout",
     "output_type": "stream",
     "text": [
      "MSE: 1850.1848754106688\n",
      "R2 score: 0.5343450608840846\n"
     ]
    }
   ],
   "source": [
    "# randomforest - baseline model\n",
    "rf_baseline = RandomForestRegressor()\n",
    "rf_baseline.fit(X_train, y_train)\n",
    "\n",
    "y_pred = rf_baseline.predict(X_test)\n",
    "print(f\"MSE: {mean_squared_error(y_test, y_pred)}\")\n",
    "print(f\"R2 score: {r2_score(y_test, y_pred)}\")"
   ]
  },
  {
   "cell_type": "code",
   "execution_count": 28,
   "id": "818e723e",
   "metadata": {},
   "outputs": [
    {
     "name": "stdout",
     "output_type": "stream",
     "text": [
      "{'max_depth': [5, 14, 24, 33, 43, 52, 62, 71, 81, 90, 100, None],\n",
      " 'max_features': ['auto', 'sqrt'],\n",
      " 'min_samples_leaf': [1, 2, 4],\n",
      " 'min_samples_split': [2, 5, 10],\n",
      " 'n_estimators': [200, 400, 600, 800, 1000, 1200, 1400, 1600, 1800, 2000]}\n"
     ]
    }
   ],
   "source": [
    "# hyperparameter tuning\n",
    "estimator = RandomForestRegressor(random_state=42)\n",
    "\n",
    "n_estimators = [int(x) for x in np.linspace(200, 2000, 10)]\n",
    "max_features = ['auto', 'sqrt']\n",
    "max_depth = [int(x) for x in np.linspace(5, 100, 11)]\n",
    "max_depth.append(None)\n",
    "min_samples_split = [2, 5, 10]\n",
    "min_samples_leaf = [1, 2, 4]\n",
    "\n",
    "params_distribution = {\n",
    "    'n_estimators': n_estimators,\n",
    "    'max_features': max_features,\n",
    "    'max_depth': max_depth,\n",
    "    'min_samples_split': min_samples_split,\n",
    "    'min_samples_leaf': min_samples_leaf\n",
    "}\n",
    "\n",
    "pprint(params_distribution)"
   ]
  },
  {
   "cell_type": "code",
   "execution_count": 30,
   "id": "8f807f31",
   "metadata": {},
   "outputs": [
    {
     "name": "stdout",
     "output_type": "stream",
     "text": [
      "Fitting 3 folds for each of 10 candidates, totalling 30 fits\n"
     ]
    },
    {
     "data": {
      "text/plain": [
       "RandomizedSearchCV(cv=3, estimator=RandomForestRegressor(random_state=42),\n",
       "                   n_jobs=2,\n",
       "                   param_distributions={'max_depth': [5, 14, 24, 33, 43, 52, 62,\n",
       "                                                      71, 81, 90, 100, None],\n",
       "                                        'max_features': ['auto', 'sqrt'],\n",
       "                                        'min_samples_leaf': [1, 2, 4],\n",
       "                                        'min_samples_split': [2, 5, 10],\n",
       "                                        'n_estimators': [200, 400, 600, 800,\n",
       "                                                         1000, 1200, 1400, 1600,\n",
       "                                                         1800, 2000]},\n",
       "                   random_state=42, verbose=1)"
      ]
     },
     "execution_count": 30,
     "metadata": {},
     "output_type": "execute_result"
    }
   ],
   "source": [
    "# randomized search\n",
    "rf_model_random = RandomizedSearchCV(estimator=estimator,\n",
    "                                    param_distributions=params_distribution,\n",
    "                                    cv=3, n_iter=10,\n",
    "                                    verbose=1, random_state=42,\n",
    "                                    n_jobs=2)\n",
    "rf_model_random.fit(X_train, y_train)"
   ]
  },
  {
   "cell_type": "code",
   "execution_count": 31,
   "id": "4182a190",
   "metadata": {},
   "outputs": [
    {
     "name": "stdout",
     "output_type": "stream",
     "text": [
      "Best Estimator: RandomForestRegressor(max_depth=24, max_features='sqrt', min_samples_split=5,\n",
      "                      n_estimators=1400, random_state=42)\n",
      "Best Score: 0.5702698169379242\n"
     ]
    }
   ],
   "source": [
    "# best model and params:\n",
    "print(f\"Best Estimator: {rf_model_random.best_estimator_}\")\n",
    "print(f\"Best Score: {rf_model_random.best_score_}\")"
   ]
  },
  {
   "cell_type": "code",
   "execution_count": 32,
   "id": "e630cc85",
   "metadata": {},
   "outputs": [
    {
     "data": {
      "text/plain": [
       "RandomForestRegressor(max_depth=24, max_features='sqrt', min_samples_split=5,\n",
       "                      n_estimators=1400, random_state=42)"
      ]
     },
     "execution_count": 32,
     "metadata": {},
     "output_type": "execute_result"
    }
   ],
   "source": [
    "# training the best random forest model\n",
    "rf_model = rf_model_random.best_estimator_\n",
    "rf_model.fit(X_train, y_train)"
   ]
  },
  {
   "cell_type": "code",
   "execution_count": 33,
   "id": "7abc3c20",
   "metadata": {},
   "outputs": [
    {
     "name": "stdout",
     "output_type": "stream",
     "text": [
      "MSE: 1770.2319733522904\n",
      "R2 Score: 0.5544676249775087\n"
     ]
    }
   ],
   "source": [
    "# getting predictions and scores\n",
    "y_pred = rf_model.predict(X_test)\n",
    "mse_rf = mean_squared_error(y_test, y_pred)\n",
    "r2_rf = r2_score(y_test, y_pred)\n",
    "\n",
    "print(f\"MSE: {mse_rf}\")\n",
    "print(f\"R2 Score: {r2_rf}\")"
   ]
  },
  {
   "cell_type": "code",
   "execution_count": 35,
   "id": "c1cf7bcf",
   "metadata": {},
   "outputs": [],
   "source": [
    "# storing the results in df\n",
    "metrics.loc[2] = ['RandomForestRegressor', mse_rf, r2_rf]"
   ]
  },
  {
   "cell_type": "code",
   "execution_count": 36,
   "id": "41ca7926",
   "metadata": {},
   "outputs": [
    {
     "data": {
      "image/png": "[encoded data removed]",
      "text/plain": [
       "<Figure size 864x432 with 2 Axes>"
      ]
     },
     "metadata": {
      "needs_background": "light"
     },
     "output_type": "display_data"
    }
   ],
   "source": [
    "# visualizing the predictions\n",
    "fig, ax = plt.subplots(1, 2, figsize=(12, 6))\n",
    "sns.histplot(y_test.values - y_pred, kde=True, ax=ax[0])\n",
    "ax[1].scatter(y_test, y_pred, s=1, color='green')\n",
    "plt.suptitle(\"Random Forest Results\", fontsize=15)\n",
    "plt.show();"
   ]
  },
  {
   "cell_type": "markdown",
   "id": "b993cae7",
   "metadata": {},
   "source": [
    "### XGBRegressor"
   ]
  },
  {
   "cell_type": "code",
   "execution_count": 39,
   "id": "fb2a325f",
   "metadata": {},
   "outputs": [
    {
     "name": "stdout",
     "output_type": "stream",
     "text": [
      "MSE: 1732.800691954044\n",
      "R2 Score: 0.5638883381679471\n"
     ]
    }
   ],
   "source": [
    "# xgbregressor - baseline model\n",
    "xgb_model = XGBRegressor(eval_metric=mean_squared_error, random_state=42)\n",
    "xgb_model.fit(X_train, y_train)\n",
    "\n",
    "y_pred = xgb_model.predict(X_test)\n",
    "print(f\"MSE: {mean_squared_error(y_test, y_pred)}\")\n",
    "print(f\"R2 Score: {r2_score(y_test, y_pred)}\")"
   ]
  },
  {
   "cell_type": "code",
   "execution_count": 40,
   "id": "ba5d0c9f",
   "metadata": {},
   "outputs": [
    {
     "name": "stdout",
     "output_type": "stream",
     "text": [
      "Fitting 3 folds for each of 20 candidates, totalling 60 fits\n"
     ]
    },
    {
     "data": {
      "text/plain": [
       "RandomizedSearchCV(cv=3,\n",
       "                   estimator=XGBRegressor(base_score=None, booster=None,\n",
       "                                          colsample_bylevel=None,\n",
       "                                          colsample_bynode=None,\n",
       "                                          colsample_bytree=None,\n",
       "                                          enable_categorical=False, gamma=None,\n",
       "                                          gpu_id=None, importance_type=None,\n",
       "                                          interaction_constraints=None,\n",
       "                                          learning_rate=None,\n",
       "                                          max_delta_step=None, max_depth=None,\n",
       "                                          min_child_weight=None, missing=nan,\n",
       "                                          monotone_constraints=...\n",
       "                                          validate_parameters=None,\n",
       "                                          verbosity=None),\n",
       "                   n_iter=20, n_jobs=-1,\n",
       "                   param_distributions={'colsample_bylevel': array([0.4, 0.5, 0.6, 0.7, 0.8, 0.9]),\n",
       "                                        'colsample_bytree': array([0.4, 0.5, 0.6, 0.7, 0.8, 0.9]),\n",
       "                                        'learning_rate': [0.01, 0.1, 0.2, 0.3],\n",
       "                                        'max_depth': [3, 5, 6, 10, 15, 20],\n",
       "                                        'n_estimators': [100, 250, 500, 1000],\n",
       "                                        'subsample': array([0.5, 0.6, 0.7, 0.8, 0.9])},\n",
       "                   scoring='neg_mean_squared_error', verbose=1)"
      ]
     },
     "execution_count": 40,
     "metadata": {},
     "output_type": "execute_result"
    }
   ],
   "source": [
    "# randomized search\n",
    "params = { 'max_depth': [3, 5, 6, 10, 15, 20],\n",
    "           'learning_rate': [0.01, 0.1, 0.2, 0.3],\n",
    "           'subsample': np.arange(0.5, 1.0, 0.1),\n",
    "           'colsample_bytree': np.arange(0.4, 1.0, 0.1),\n",
    "           'colsample_bylevel': np.arange(0.4, 1.0, 0.1),\n",
    "           'n_estimators': [100, 250, 500, 1000]}\n",
    "estimator = XGBRegressor(random_state=42)\n",
    "xgb_model_random = RandomizedSearchCV(estimator=estimator,\n",
    "                         param_distributions=params,\n",
    "                         scoring='neg_mean_squared_error',\n",
    "                         n_iter=20,\n",
    "                         cv=3, n_jobs=-1,\n",
    "                         verbose=1)\n",
    "\n",
    "xgb_model_random.fit(X_train, y_train)"
   ]
  },
  {
   "cell_type": "code",
   "execution_count": 41,
   "id": "8f06d4cf",
   "metadata": {},
   "outputs": [
    {
     "name": "stdout",
     "output_type": "stream",
     "text": [
      "Best Estimator: XGBRegressor(base_score=0.5, booster='gbtree',\n",
      "             colsample_bylevel=0.7999999999999999, colsample_bynode=1,\n",
      "             colsample_bytree=0.4, enable_categorical=False, gamma=0, gpu_id=-1,\n",
      "             importance_type=None, interaction_constraints='',\n",
      "             learning_rate=0.01, max_delta_step=0, max_depth=15,\n",
      "             min_child_weight=1, missing=nan, monotone_constraints='()',\n",
      "             n_estimators=1000, n_jobs=8, num_parallel_tree=1, predictor='auto',\n",
      "             random_state=42, reg_alpha=0, reg_lambda=1, scale_pos_weight=1,\n",
      "             subsample=0.7999999999999999, tree_method='exact',\n",
      "             validate_parameters=1, verbosity=None)\n",
      "Best Score: -1647.6817539824472\n"
     ]
    }
   ],
   "source": [
    "print(f\"Best Estimator: {xgb_model_random.best_estimator_}\")\n",
    "print(f\"Best Score: {xgb_model_random.best_score_}\")"
   ]
  },
  {
   "cell_type": "code",
   "execution_count": 42,
   "id": "bf9eb096",
   "metadata": {},
   "outputs": [
    {
     "data": {
      "text/plain": [
       "XGBRegressor(base_score=0.5, booster='gbtree',\n",
       "             colsample_bylevel=0.7999999999999999, colsample_bynode=1,\n",
       "             colsample_bytree=0.4, enable_categorical=False, gamma=0, gpu_id=-1,\n",
       "             importance_type=None, interaction_constraints='',\n",
       "             learning_rate=0.01, max_delta_step=0, max_depth=15,\n",
       "             min_child_weight=1, missing=nan, monotone_constraints='()',\n",
       "             n_estimators=1000, n_jobs=8, num_parallel_tree=1, predictor='auto',\n",
       "             random_state=42, reg_alpha=0, reg_lambda=1, scale_pos_weight=1,\n",
       "             subsample=0.7999999999999999, tree_method='exact',\n",
       "             validate_parameters=1, verbosity=None)"
      ]
     },
     "execution_count": 42,
     "metadata": {},
     "output_type": "execute_result"
    }
   ],
   "source": [
    "# best model:\n",
    "xgb_model = xgb_model_random.best_estimator_\n",
    "xgb_model.fit(X_train, y_train)"
   ]
  },
  {
   "cell_type": "code",
   "execution_count": 43,
   "id": "30fe1914",
   "metadata": {},
   "outputs": [
    {
     "name": "stdout",
     "output_type": "stream",
     "text": [
      "MSE: 1689.9346316782335\n",
      "R2 Score: 0.5746768777096734\n"
     ]
    }
   ],
   "source": [
    "# predictions and scores\n",
    "y_pred = xgb_model.predict(X_test)\n",
    "mse_xgb = mean_squared_error(y_test, y_pred)\n",
    "r2_xgb = r2_score(y_test, y_pred)\n",
    "\n",
    "print(f\"MSE: {mse_xgb}\")\n",
    "print(f\"R2 Score: {r2_xgb}\")"
   ]
  },
  {
   "cell_type": "code",
   "execution_count": 44,
   "id": "631d0495",
   "metadata": {},
   "outputs": [],
   "source": [
    "# saving metrics to df\n",
    "metrics.loc[3] = ['XGBRegressor', mse_xgb, r2_xgb]"
   ]
  },
  {
   "cell_type": "code",
   "execution_count": 45,
   "id": "f3fafc23",
   "metadata": {},
   "outputs": [
    {
     "data": {
      "text/html": [
       "<div>\n",
       "<style scoped>\n",
       "    .dataframe tbody tr th:only-of-type {\n",
       "        vertical-align: middle;\n",
       "    }\n",
       "\n",
       "    .dataframe tbody tr th {\n",
       "        vertical-align: top;\n",
       "    }\n",
       "\n",
       "    .dataframe thead th {\n",
       "        text-align: right;\n",
       "    }\n",
       "</style>\n",
       "<table border=\"1\" class=\"dataframe\">\n",
       "  <thead>\n",
       "    <tr style=\"text-align: right;\">\n",
       "      <th></th>\n",
       "      <th>model</th>\n",
       "      <th>mse</th>\n",
       "      <th>r2_score</th>\n",
       "    </tr>\n",
       "  </thead>\n",
       "  <tbody>\n",
       "    <tr>\n",
       "      <th>0</th>\n",
       "      <td>RidgeRegression</td>\n",
       "      <td>1866.271423</td>\n",
       "      <td>0.530296</td>\n",
       "    </tr>\n",
       "    <tr>\n",
       "      <th>1</th>\n",
       "      <td>LassoRegression</td>\n",
       "      <td>1866.763776</td>\n",
       "      <td>0.530172</td>\n",
       "    </tr>\n",
       "    <tr>\n",
       "      <th>2</th>\n",
       "      <td>RandomForestRegressor</td>\n",
       "      <td>1770.231973</td>\n",
       "      <td>0.554468</td>\n",
       "    </tr>\n",
       "    <tr>\n",
       "      <th>3</th>\n",
       "      <td>XGBRegressor</td>\n",
       "      <td>1689.934632</td>\n",
       "      <td>0.574677</td>\n",
       "    </tr>\n",
       "  </tbody>\n",
       "</table>\n",
       "</div>"
      ],
      "text/plain": [
       "                   model          mse  r2_score\n",
       "0        RidgeRegression  1866.271423  0.530296\n",
       "1        LassoRegression  1866.763776  0.530172\n",
       "2  RandomForestRegressor  1770.231973  0.554468\n",
       "3           XGBRegressor  1689.934632  0.574677"
      ]
     },
     "execution_count": 45,
     "metadata": {},
     "output_type": "execute_result"
    }
   ],
   "source": [
    "# looking at the metrics\n",
    "metrics.head()"
   ]
  },
  {
   "cell_type": "code",
   "execution_count": 46,
   "id": "1a9a7e33",
   "metadata": {},
   "outputs": [],
   "source": [
    "metrics.to_csv(\"metrics_with_all_features.csv\", index=False)"
   ]
  },
  {
   "cell_type": "code",
   "execution_count": null,
   "id": "3846e3a9",
   "metadata": {},
   "outputs": [],
   "source": []
  }
 ],
 "metadata": {
  "kernelspec": {
   "display_name": "Python 3 (ipykernel)",
   "language": "python",
   "name": "python3"
  },
  "language_info": {
   "codemirror_mode": {
    "name": "ipython",
    "version": 3
   },
   "file_extension": ".py",
   "mimetype": "text/x-python",
   "name": "python",
   "nbconvert_exporter": "python",
   "pygments_lexer": "ipython3",
   "version": "3.8.6"
  }
 },
 "nbformat": 4,
 "nbformat_minor": 5
}
