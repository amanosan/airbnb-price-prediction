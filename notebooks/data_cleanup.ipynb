{
 "cells": [
  {
   "cell_type": "markdown",
   "id": "966a95fc",
   "metadata": {},
   "source": [
    "# Data Cleanup"
   ]
  },
  {
   "cell_type": "code",
   "execution_count": 82,
   "id": "e1f7d66b",
   "metadata": {},
   "outputs": [],
   "source": [
    "# importing the libraries\n",
    "from utils.DataIngestion import get_config, print_config, get_path, ingest_data\n",
    "from utils.HelperFunctions import negative_check, not_in_list, out_of_bounding_box, out_of_range\n",
    "\n",
    "import numpy as np\n",
    "import pandas as pd\n",
    "import os\n",
    "import logging\n",
    "import numbers"
   ]
  },
  {
   "cell_type": "markdown",
   "id": "c88de502",
   "metadata": {},
   "source": [
    "### Loading Data and Configurations"
   ]
  },
  {
   "cell_type": "code",
   "execution_count": 83,
   "id": "2b33a91e",
   "metadata": {},
   "outputs": [
    {
     "name": "stdout",
     "output_type": "stream",
     "text": [
      "Path is D:\\Machine Learning\\MACHINE LEARNING PROJECTS\\airbnb_price_prediction\\data\n",
      "Path, path_to_yaml: D:\\Machine Learning\\MACHINE LEARNING PROJECTS\\airbnb_price_prediction\\notebooks\\data_preparation_config.yml\n",
      "\n",
      "\n",
      "Config Value general --> {'load_from_scratch': False, 'save_raw_dataframe': False, 'save_transformed_dataframe': True, 'remove_bad_values': True}\n",
      "Config Value columns --> {'categorical': ['neighbourhood_group', 'room_type'], 'continuous': ['minimum_nights', 'number_of_reviews', 'reviews_per_month', 'calculated_host_listings_count', 'latitude', 'longitude'], 'date': ['last_review'], 'text': ['name', 'host_name'], 'excluded': ['price', 'id']}\n",
      "Config Value category_defaults --> {'categorical': 'missing', 'continuous': 0.0, 'text': 'missing', 'date': datetime.date(2019, 1, 1), 'excluded': 'missing'}\n",
      "Config Value category_invalid_replacements --> {'categorical': 'bad_categorical', 'continuous': 'bad_continuous', 'text': 'bad_text', 'date': 'bad_date', 'excluded': 'bad_excluded'}\n",
      "Config Value latitude_replacement --> bad_latitude\n",
      "Config Value longitude_replacement --> bad_longitude\n",
      "Config Value non_negative_continuous --> ['minimum_nights', 'number_of_reviews', 'reviews_per_month', 'calculated_host_listings_count']\n",
      "Config Value valid_values --> {'neighbourhood_group': ['Bronx', 'Brooklyn', 'Queens', 'Manhattan', 'Staten Island'], 'room_type': ['Private room', 'Shared room', 'Entire home/apt']}\n",
      "Config Value bounding_box --> {'max_long': -73.70018092, 'max_lat': 40.91617849, 'min_long': -74.25909008, 'min_lat': 40.47739894}\n",
      "Config Value newark_bounding_box --> {'max_long': -74.11278706, 'max_lat': 40.67325015, 'min_long': -74.25132408, 'min_lat': 40.78813864}\n",
      "Config Value geo_columns --> ['latitude', 'longitude']\n",
      "Config Value file_names --> {'input_csv': 'AB_NYC_2019.csv', 'pickled_input_dataframe': 'AB_NYC_2019_input_nov8.pkl', 'pickled_output_dataframe': 'AB_NYC_2019_output_nov8.pkl'}\n"
     ]
    }
   ],
   "source": [
    "# let's load the dataframe and configuration files\n",
    "path = get_path()\n",
    "print(f\"Path is {path}\")\n",
    "\n",
    "config = get_config(\"data_preparation_config.yml\")\n",
    "print_config(config)"
   ]
  },
  {
   "cell_type": "code",
   "execution_count": 84,
   "id": "e112f11f",
   "metadata": {},
   "outputs": [
    {
     "data": {
      "text/html": [
       "<div>\n",
       "<style scoped>\n",
       "    .dataframe tbody tr th:only-of-type {\n",
       "        vertical-align: middle;\n",
       "    }\n",
       "\n",
       "    .dataframe tbody tr th {\n",
       "        vertical-align: top;\n",
       "    }\n",
       "\n",
       "    .dataframe thead th {\n",
       "        text-align: right;\n",
       "    }\n",
       "</style>\n",
       "<table border=\"1\" class=\"dataframe\">\n",
       "  <thead>\n",
       "    <tr style=\"text-align: right;\">\n",
       "      <th></th>\n",
       "      <th>id</th>\n",
       "      <th>name</th>\n",
       "      <th>host_id</th>\n",
       "      <th>host_name</th>\n",
       "      <th>neighbourhood_group</th>\n",
       "      <th>neighbourhood</th>\n",
       "      <th>latitude</th>\n",
       "      <th>longitude</th>\n",
       "      <th>room_type</th>\n",
       "      <th>price</th>\n",
       "      <th>minimum_nights</th>\n",
       "      <th>number_of_reviews</th>\n",
       "      <th>last_review</th>\n",
       "      <th>reviews_per_month</th>\n",
       "      <th>calculated_host_listings_count</th>\n",
       "      <th>availability_365</th>\n",
       "    </tr>\n",
       "  </thead>\n",
       "  <tbody>\n",
       "    <tr>\n",
       "      <th>0</th>\n",
       "      <td>2539</td>\n",
       "      <td>Clean &amp; quiet apt home by the park</td>\n",
       "      <td>2787</td>\n",
       "      <td>John</td>\n",
       "      <td>Brooklyn</td>\n",
       "      <td>Kensington</td>\n",
       "      <td>40.64749</td>\n",
       "      <td>-73.97237</td>\n",
       "      <td>Private room</td>\n",
       "      <td>149</td>\n",
       "      <td>1</td>\n",
       "      <td>9</td>\n",
       "      <td>2018-10-19</td>\n",
       "      <td>0.21</td>\n",
       "      <td>6</td>\n",
       "      <td>365</td>\n",
       "    </tr>\n",
       "    <tr>\n",
       "      <th>1</th>\n",
       "      <td>2595</td>\n",
       "      <td>Skylit Midtown Castle</td>\n",
       "      <td>2845</td>\n",
       "      <td>Jennifer</td>\n",
       "      <td>Manhattan</td>\n",
       "      <td>Midtown</td>\n",
       "      <td>40.75362</td>\n",
       "      <td>-73.98377</td>\n",
       "      <td>Entire home/apt</td>\n",
       "      <td>225</td>\n",
       "      <td>1</td>\n",
       "      <td>45</td>\n",
       "      <td>2019-05-21</td>\n",
       "      <td>0.38</td>\n",
       "      <td>2</td>\n",
       "      <td>355</td>\n",
       "    </tr>\n",
       "    <tr>\n",
       "      <th>2</th>\n",
       "      <td>3647</td>\n",
       "      <td>THE VILLAGE OF HARLEM....NEW YORK !</td>\n",
       "      <td>4632</td>\n",
       "      <td>Elisabeth</td>\n",
       "      <td>Manhattan</td>\n",
       "      <td>Harlem</td>\n",
       "      <td>40.80902</td>\n",
       "      <td>-73.94190</td>\n",
       "      <td>Private room</td>\n",
       "      <td>150</td>\n",
       "      <td>3</td>\n",
       "      <td>0</td>\n",
       "      <td>NaN</td>\n",
       "      <td>NaN</td>\n",
       "      <td>1</td>\n",
       "      <td>365</td>\n",
       "    </tr>\n",
       "    <tr>\n",
       "      <th>3</th>\n",
       "      <td>3831</td>\n",
       "      <td>Cozy Entire Floor of Brownstone</td>\n",
       "      <td>4869</td>\n",
       "      <td>LisaRoxanne</td>\n",
       "      <td>Brooklyn</td>\n",
       "      <td>Clinton Hill</td>\n",
       "      <td>40.68514</td>\n",
       "      <td>-73.95976</td>\n",
       "      <td>Entire home/apt</td>\n",
       "      <td>89</td>\n",
       "      <td>1</td>\n",
       "      <td>270</td>\n",
       "      <td>2019-07-05</td>\n",
       "      <td>4.64</td>\n",
       "      <td>1</td>\n",
       "      <td>194</td>\n",
       "    </tr>\n",
       "    <tr>\n",
       "      <th>4</th>\n",
       "      <td>5022</td>\n",
       "      <td>Entire Apt: Spacious Studio/Loft by central park</td>\n",
       "      <td>7192</td>\n",
       "      <td>Laura</td>\n",
       "      <td>Manhattan</td>\n",
       "      <td>East Harlem</td>\n",
       "      <td>40.79851</td>\n",
       "      <td>-73.94399</td>\n",
       "      <td>Entire home/apt</td>\n",
       "      <td>80</td>\n",
       "      <td>10</td>\n",
       "      <td>9</td>\n",
       "      <td>2018-11-19</td>\n",
       "      <td>0.10</td>\n",
       "      <td>1</td>\n",
       "      <td>0</td>\n",
       "    </tr>\n",
       "  </tbody>\n",
       "</table>\n",
       "</div>"
      ],
      "text/plain": [
       "     id                                              name  host_id  \\\n",
       "0  2539                Clean & quiet apt home by the park     2787   \n",
       "1  2595                             Skylit Midtown Castle     2845   \n",
       "2  3647               THE VILLAGE OF HARLEM....NEW YORK !     4632   \n",
       "3  3831                   Cozy Entire Floor of Brownstone     4869   \n",
       "4  5022  Entire Apt: Spacious Studio/Loft by central park     7192   \n",
       "\n",
       "     host_name neighbourhood_group neighbourhood  latitude  longitude  \\\n",
       "0         John            Brooklyn    Kensington  40.64749  -73.97237   \n",
       "1     Jennifer           Manhattan       Midtown  40.75362  -73.98377   \n",
       "2    Elisabeth           Manhattan        Harlem  40.80902  -73.94190   \n",
       "3  LisaRoxanne            Brooklyn  Clinton Hill  40.68514  -73.95976   \n",
       "4        Laura           Manhattan   East Harlem  40.79851  -73.94399   \n",
       "\n",
       "         room_type  price  minimum_nights  number_of_reviews last_review  \\\n",
       "0     Private room    149               1                  9  2018-10-19   \n",
       "1  Entire home/apt    225               1                 45  2019-05-21   \n",
       "2     Private room    150               3                  0         NaN   \n",
       "3  Entire home/apt     89               1                270  2019-07-05   \n",
       "4  Entire home/apt     80              10                  9  2018-11-19   \n",
       "\n",
       "   reviews_per_month  calculated_host_listings_count  availability_365  \n",
       "0               0.21                               6               365  \n",
       "1               0.38                               2               355  \n",
       "2                NaN                               1               365  \n",
       "3               4.64                               1               194  \n",
       "4               0.10                               1                 0  "
      ]
     },
     "execution_count": 84,
     "metadata": {},
     "output_type": "execute_result"
    }
   ],
   "source": [
    "# loading the data\n",
    "df = ingest_data(path=path,\n",
    "                input_csv=config['file_names']['input_csv'],\n",
    "                pickled_input_dataframe=config['file_names']['pickled_input_dataframe'],\n",
    "                save_raw_dataframe=config['general']['save_raw_dataframe'],\n",
    "                load_from_scratch=config['general']['load_from_scratch'])\n",
    "df.head()"
   ]
  },
  {
   "cell_type": "code",
   "execution_count": 85,
   "id": "41cfed7e",
   "metadata": {},
   "outputs": [
    {
     "name": "stdout",
     "output_type": "stream",
     "text": [
      "<class 'pandas.core.frame.DataFrame'>\n",
      "RangeIndex: 48895 entries, 0 to 48894\n",
      "Data columns (total 16 columns):\n",
      " #   Column                          Non-Null Count  Dtype  \n",
      "---  ------                          --------------  -----  \n",
      " 0   id                              48895 non-null  int64  \n",
      " 1   name                            48879 non-null  object \n",
      " 2   host_id                         48895 non-null  int64  \n",
      " 3   host_name                       48874 non-null  object \n",
      " 4   neighbourhood_group             48895 non-null  object \n",
      " 5   neighbourhood                   48895 non-null  object \n",
      " 6   latitude                        48895 non-null  float64\n",
      " 7   longitude                       48895 non-null  float64\n",
      " 8   room_type                       48895 non-null  object \n",
      " 9   price                           48895 non-null  int64  \n",
      " 10  minimum_nights                  48895 non-null  int64  \n",
      " 11  number_of_reviews               48895 non-null  int64  \n",
      " 12  last_review                     38843 non-null  object \n",
      " 13  reviews_per_month               38843 non-null  float64\n",
      " 14  calculated_host_listings_count  48895 non-null  int64  \n",
      " 15  availability_365                48895 non-null  int64  \n",
      "dtypes: float64(3), int64(7), object(6)\n",
      "memory usage: 6.0+ MB\n"
     ]
    }
   ],
   "source": [
    "df.info()"
   ]
  },
  {
   "cell_type": "markdown",
   "id": "5c9d82fe",
   "metadata": {},
   "source": [
    "### General Cleaning "
   ]
  },
  {
   "cell_type": "markdown",
   "id": "c52c7700",
   "metadata": {},
   "source": [
    "#### Replacing Numeric and Categorical Variables"
   ]
  },
  {
   "cell_type": "code",
   "execution_count": 86,
   "id": "a728b532",
   "metadata": {},
   "outputs": [],
   "source": [
    "def fill_missing(df, columns, defaults):\n",
    "    ''' replace missing values with placeholders by column type\n",
    "    Args:\n",
    "        df: dataframe to process for missing values\n",
    "        columns: dictionary of columns with the column type (key = column type, value = column name)\n",
    "        defaults: dictionary of replacements of missing values by column type\n",
    "    Returns:\n",
    "        dataset: dataframe with missing values replaced with default values\n",
    "    '''\n",
    "    logging.debug(\"Before Missing Values\")\n",
    "    for col_cat in columns:\n",
    "        print(f\"Column Category is {col_cat}\")\n",
    "        for col in columns[col_cat]:\n",
    "            print(f\"Filling missing values in {col} with deafult {defaults[col_cat]}\")\n",
    "            df[col].fillna(defaults[col_cat], inplace=True)\n",
    "            print(f\"Missing values in {col}: {str(df[col].isna().sum())}\")\n",
    "            \n",
    "    return df"
   ]
  },
  {
   "cell_type": "code",
   "execution_count": 87,
   "id": "cb38c2d7",
   "metadata": {},
   "outputs": [],
   "source": [
    "def replace_if_not_in_list(x, replace_x, lst):\n",
    "    ''' check if a value is in a list\n",
    "    Args:\n",
    "        x: value to check\n",
    "        replace_x: replacement value\n",
    "        lst: list in which to check for the value\n",
    "    Returns: \n",
    "        x if value is in not in list, replace_x otherwise\n",
    "    '''\n",
    "    if x in lst:\n",
    "        return x\n",
    "    else:\n",
    "        return replace_x"
   ]
  },
  {
   "cell_type": "code",
   "execution_count": 88,
   "id": "4a09db6b",
   "metadata": {},
   "outputs": [],
   "source": [
    "def replace_if_non_numeric(x, replace_x):\n",
    "    ''' check if a value is non-numeric and replace if so\n",
    "    Args:\n",
    "        x: value to check\n",
    "        replace_x: replacement value\n",
    "    Returns: \n",
    "        x if value is numeric, replace_x otherwise\n",
    "    '''\n",
    "    if isinstance(x, numbers.Number):\n",
    "        return x\n",
    "    else:\n",
    "        return replace_x"
   ]
  },
  {
   "cell_type": "code",
   "execution_count": 89,
   "id": "c5f51ffc",
   "metadata": {},
   "outputs": [],
   "source": [
    "def replace_if_negative(x, replace_x):\n",
    "    ''' checks if a value is negative if so replaces it\n",
    "    Args:\n",
    "        x: value to check\n",
    "        replace_x: replacement value\n",
    "    Returns: \n",
    "        x if value is not negative, replace_x otherwise\n",
    "    '''\n",
    "    if x >= 0:\n",
    "        return x\n",
    "    else:\n",
    "        return replace_x"
   ]
  },
  {
   "cell_type": "code",
   "execution_count": 90,
   "id": "0ff5d87b",
   "metadata": {},
   "outputs": [],
   "source": [
    "# main function to replace invalid values\n",
    "def replace_invalid_values(df, columns, valid_values, invalid_value_replacements, non_neg_continuous):\n",
    "    ''' replace invalid with placeholders\n",
    "    Args:\n",
    "        df: dataframe for assessment\n",
    "        columns: dictionary of column names by category\n",
    "        valid_values: dictionary of valid values for categorical columns\n",
    "        invalid_value_replacements: dictionary of replacement values\n",
    "        non_neg_continuous: list of continuous columns with only non-negative values as valid\n",
    "    Returns:\n",
    "        df: updated dataframe\n",
    "    '''\n",
    "    # categorical columns \n",
    "    for col in columns['categorical']:\n",
    "        print(f\"Non valid values in {col}: {df[col].apply(lambda x: not_in_list(x, valid_values[col])).sum()}\")\n",
    "        df[col] = df[col].apply(lambda x: replace_if_not_in_list(x, invalid_value_replacements['categorical'], valid_values[col]))\n",
    "        \n",
    "    # continuous columns\n",
    "    for col in columns['continuous']:\n",
    "        # replace non-numeric values\n",
    "        df[col] = df[col].apply(lambda x: replace_if_non_numeric(x, invalid_value_replacements['continuous']))\n",
    "        # replace if negative\n",
    "        if col in non_neg_continuous:\n",
    "            df[col] = df[col].apply(lambda x: replace_if_negative(x, invalid_value_replacements['continuous']))\n",
    "            \n",
    "    return df"
   ]
  },
  {
   "cell_type": "markdown",
   "id": "fa1f7a55",
   "metadata": {},
   "source": [
    "#### Replacing Geospatial Variables"
   ]
  },
  {
   "cell_type": "code",
   "execution_count": 91,
   "id": "93c7966c",
   "metadata": {},
   "outputs": [],
   "source": [
    "def replace_if_outside_bounding_box(latitude, longitude, replace_lat, replace_long, bounding_box):\n",
    "    ''' check whether longitude and latitude values are outside bounding box\n",
    "    Args:\n",
    "        latitude: latitude portion of location\n",
    "        longitude: longitude portion of location\n",
    "        replace_lat: replacement value for latitude\n",
    "        replace_long: replacement value for longitude\n",
    "        bounding_box: dictionary with max and min value to compare to.\n",
    "    Returns:\n",
    "        latitude, longitude: 1 if out of range, 0 otherwise\n",
    "    '''\n",
    "    if (latitude > bounding_box['max_lat'] or latitude < bounding_box['min_lat']) \\\n",
    "    or (longitude > bounding_box['max_long'] or longitude < bounding_box['min_long']):\n",
    "        latitude = replace_lat\n",
    "        longitude = replace_long\n",
    "    return (latitude, longitude)"
   ]
  },
  {
   "cell_type": "code",
   "execution_count": 92,
   "id": "85880473",
   "metadata": {},
   "outputs": [],
   "source": [
    "def replace_time(date_time_value, time_value):\n",
    "    ''' \n",
    "    given a dataframe, replace the time portion\n",
    "    '''\n",
    "    date_time_value = date_time_value.replace(hour=time_value.hour, minute=time_value.minute, second_time=time_value.second)\n",
    "    return date_time_value"
   ]
  },
  {
   "cell_type": "code",
   "execution_count": 93,
   "id": "8861408f",
   "metadata": {},
   "outputs": [],
   "source": [
    "# the main function to replace geospatial data\n",
    "def geo_replacement(df, replace_lat, replace_long, bounding_box):\n",
    "    ''' assess the geospatial data by checking values of longitude and latitude\n",
    "    Args:\n",
    "        df: dataframe to assess\n",
    "        replace_lat: replacement for latitude value\n",
    "        replace_long: replacement for longitude value\n",
    "        bounding_box: dictionary of max and min values of bounding box\n",
    "    Returns:\n",
    "        df: updated dataframe\n",
    "    '''\n",
    "    df['latitude', 'longitude'] = df.apply(lambda x: replace_if_outside_bounding_box(x.latitude, x.longitude, replace_lat, replace_long, bounding_box), axis=1)\n",
    "    return df\n"
   ]
  },
  {
   "cell_type": "markdown",
   "id": "9550b284",
   "metadata": {},
   "source": [
    "### Master Cell"
   ]
  },
  {
   "cell_type": "code",
   "execution_count": 94,
   "id": "126e352b",
   "metadata": {},
   "outputs": [
    {
     "name": "stdout",
     "output_type": "stream",
     "text": [
      "Columns: {'categorical': ['neighbourhood_group', 'room_type'], 'continuous': ['minimum_nights', 'number_of_reviews', 'reviews_per_month', 'calculated_host_listings_count', 'latitude', 'longitude'], 'date': ['last_review'], 'text': ['name', 'host_name'], 'excluded': ['price', 'id']}\n",
      "--------------------------------------------------------------------------------\n",
      "Category defaults: {'categorical': 'missing', 'continuous': 0.0, 'text': 'missing', 'date': datetime.date(2019, 1, 1), 'excluded': 'missing'}\n"
     ]
    }
   ],
   "source": [
    "print(f\"Columns: {config['columns']}\")\n",
    "print(\"-\" * 80)\n",
    "print(f\"Category defaults: {config['category_defaults']}\")"
   ]
  },
  {
   "cell_type": "code",
   "execution_count": 95,
   "id": "ae787533",
   "metadata": {},
   "outputs": [
    {
     "name": "stdout",
     "output_type": "stream",
     "text": [
      "Column Category is categorical\n",
      "Filling missing values in neighbourhood_group with deafult missing\n",
      "Missing values in neighbourhood_group: 0\n",
      "Filling missing values in room_type with deafult missing\n",
      "Missing values in room_type: 0\n",
      "Column Category is continuous\n",
      "Filling missing values in minimum_nights with deafult 0.0\n",
      "Missing values in minimum_nights: 0\n",
      "Filling missing values in number_of_reviews with deafult 0.0\n",
      "Missing values in number_of_reviews: 0\n",
      "Filling missing values in reviews_per_month with deafult 0.0\n",
      "Missing values in reviews_per_month: 0\n",
      "Filling missing values in calculated_host_listings_count with deafult 0.0\n",
      "Missing values in calculated_host_listings_count: 0\n",
      "Filling missing values in latitude with deafult 0.0\n",
      "Missing values in latitude: 0\n",
      "Filling missing values in longitude with deafult 0.0\n",
      "Missing values in longitude: 0\n",
      "Column Category is date\n",
      "Filling missing values in last_review with deafult 2019-01-01\n",
      "Missing values in last_review: 0\n",
      "Column Category is text\n",
      "Filling missing values in name with deafult missing\n",
      "Missing values in name: 0\n",
      "Filling missing values in host_name with deafult missing\n",
      "Missing values in host_name: 0\n",
      "Column Category is excluded\n",
      "Filling missing values in price with deafult missing\n",
      "Missing values in price: 0\n",
      "Filling missing values in id with deafult missing\n",
      "Missing values in id: 0\n",
      "<class 'pandas.core.frame.DataFrame'>\n",
      "RangeIndex: 48895 entries, 0 to 48894\n",
      "Data columns (total 16 columns):\n",
      " #   Column                          Non-Null Count  Dtype  \n",
      "---  ------                          --------------  -----  \n",
      " 0   id                              48895 non-null  int64  \n",
      " 1   name                            48895 non-null  object \n",
      " 2   host_id                         48895 non-null  int64  \n",
      " 3   host_name                       48895 non-null  object \n",
      " 4   neighbourhood_group             48895 non-null  object \n",
      " 5   neighbourhood                   48895 non-null  object \n",
      " 6   latitude                        48895 non-null  float64\n",
      " 7   longitude                       48895 non-null  float64\n",
      " 8   room_type                       48895 non-null  object \n",
      " 9   price                           48895 non-null  int64  \n",
      " 10  minimum_nights                  48895 non-null  int64  \n",
      " 11  number_of_reviews               48895 non-null  int64  \n",
      " 12  last_review                     48895 non-null  object \n",
      " 13  reviews_per_month               48895 non-null  float64\n",
      " 14  calculated_host_listings_count  48895 non-null  int64  \n",
      " 15  availability_365                48895 non-null  int64  \n",
      "dtypes: float64(3), int64(7), object(6)\n",
      "memory usage: 6.0+ MB\n"
     ]
    }
   ],
   "source": [
    "# filling missing values\n",
    "df = fill_missing(df, config['columns'], config['category_defaults'])\n",
    "df.info()"
   ]
  },
  {
   "cell_type": "code",
   "execution_count": 96,
   "id": "6d33987c",
   "metadata": {},
   "outputs": [
    {
     "name": "stdout",
     "output_type": "stream",
     "text": [
      "Non valid values in neighbourhood_group: 0\n",
      "Non valid values in room_type: 0\n"
     ]
    }
   ],
   "source": [
    "# replacing invalid values\n",
    "df = replace_invalid_values(df=df,\n",
    "                           columns=config['columns'],\n",
    "                           valid_values=config['valid_values'],\n",
    "                           invalid_value_replacements=config['category_invalid_replacements'],\n",
    "                           non_neg_continuous=config['non_negative_continuous'])"
   ]
  },
  {
   "cell_type": "code",
   "execution_count": 97,
   "id": "549705cf",
   "metadata": {},
   "outputs": [
    {
     "name": "stdout",
     "output_type": "stream",
     "text": [
      "<class 'pandas.core.frame.DataFrame'>\n",
      "RangeIndex: 48895 entries, 0 to 48894\n",
      "Data columns (total 16 columns):\n",
      " #   Column                          Non-Null Count  Dtype  \n",
      "---  ------                          --------------  -----  \n",
      " 0   id                              48895 non-null  int64  \n",
      " 1   name                            48895 non-null  object \n",
      " 2   host_id                         48895 non-null  int64  \n",
      " 3   host_name                       48895 non-null  object \n",
      " 4   neighbourhood_group             48895 non-null  object \n",
      " 5   neighbourhood                   48895 non-null  object \n",
      " 6   latitude                        48895 non-null  float64\n",
      " 7   longitude                       48895 non-null  float64\n",
      " 8   room_type                       48895 non-null  object \n",
      " 9   price                           48895 non-null  int64  \n",
      " 10  minimum_nights                  48895 non-null  int64  \n",
      " 11  number_of_reviews               48895 non-null  int64  \n",
      " 12  last_review                     48895 non-null  object \n",
      " 13  reviews_per_month               48895 non-null  float64\n",
      " 14  calculated_host_listings_count  48895 non-null  int64  \n",
      " 15  availability_365                48895 non-null  int64  \n",
      "dtypes: float64(3), int64(7), object(6)\n",
      "memory usage: 6.0+ MB\n"
     ]
    }
   ],
   "source": [
    "df.info()"
   ]
  },
  {
   "cell_type": "code",
   "execution_count": 98,
   "id": "f4255ae5",
   "metadata": {},
   "outputs": [],
   "source": [
    "# replacing geospatial data\n",
    "df = geo_replacement(df, config['latitude_replacement'], config['longitude_replacement'], config['bounding_box'])"
   ]
  },
  {
   "cell_type": "code",
   "execution_count": 99,
   "id": "1224d76a",
   "metadata": {},
   "outputs": [
    {
     "name": "stdout",
     "output_type": "stream",
     "text": [
      "<class 'pandas.core.frame.DataFrame'>\n",
      "RangeIndex: 48895 entries, 0 to 48894\n",
      "Data columns (total 17 columns):\n",
      " #   Column                          Non-Null Count  Dtype  \n",
      "---  ------                          --------------  -----  \n",
      " 0   id                              48895 non-null  int64  \n",
      " 1   name                            48895 non-null  object \n",
      " 2   host_id                         48895 non-null  int64  \n",
      " 3   host_name                       48895 non-null  object \n",
      " 4   neighbourhood_group             48895 non-null  object \n",
      " 5   neighbourhood                   48895 non-null  object \n",
      " 6   latitude                        48895 non-null  float64\n",
      " 7   longitude                       48895 non-null  float64\n",
      " 8   room_type                       48895 non-null  object \n",
      " 9   price                           48895 non-null  int64  \n",
      " 10  minimum_nights                  48895 non-null  int64  \n",
      " 11  number_of_reviews               48895 non-null  int64  \n",
      " 12  last_review                     48895 non-null  object \n",
      " 13  reviews_per_month               48895 non-null  float64\n",
      " 14  calculated_host_listings_count  48895 non-null  int64  \n",
      " 15  availability_365                48895 non-null  int64  \n",
      " 16  (latitude, longitude)           48895 non-null  object \n",
      "dtypes: float64(3), int64(7), object(7)\n",
      "memory usage: 6.3+ MB\n"
     ]
    }
   ],
   "source": [
    "df.info()"
   ]
  },
  {
   "cell_type": "markdown",
   "id": "a5efca21",
   "metadata": {},
   "source": [
    "##### Saving transformed data:"
   ]
  },
  {
   "cell_type": "code",
   "execution_count": 100,
   "id": "6a6427b1",
   "metadata": {},
   "outputs": [
    {
     "name": "stdout",
     "output_type": "stream",
     "text": [
      "Path: D:\\Machine Learning\\MACHINE LEARNING PROJECTS\\airbnb_price_prediction\\data\n",
      "File Name: D:\\Machine Learning\\MACHINE LEARNING PROJECTS\\airbnb_price_prediction\\data\\AB_NYC_2019_output_nov8.pkl\n"
     ]
    }
   ],
   "source": [
    "if config['general']['save_transformed_dataframe']:\n",
    "    print(\"Path:\", path)\n",
    "    filename = os.path.join(path, config['file_names']['pickled_output_dataframe'])\n",
    "    print(\"File Name:\", filename)\n",
    "    df.to_pickle(filename)"
   ]
  },
  {
   "cell_type": "code",
   "execution_count": 103,
   "id": "bf31144d",
   "metadata": {},
   "outputs": [
    {
     "name": "stdout",
     "output_type": "stream",
     "text": [
      "<class 'pandas.core.frame.DataFrame'>\n",
      "RangeIndex: 48895 entries, 0 to 48894\n",
      "Data columns (total 17 columns):\n",
      " #   Column                          Non-Null Count  Dtype  \n",
      "---  ------                          --------------  -----  \n",
      " 0   id                              48895 non-null  int64  \n",
      " 1   name                            48895 non-null  object \n",
      " 2   host_id                         48895 non-null  int64  \n",
      " 3   host_name                       48895 non-null  object \n",
      " 4   neighbourhood_group             48895 non-null  object \n",
      " 5   neighbourhood                   48895 non-null  object \n",
      " 6   latitude                        48895 non-null  float64\n",
      " 7   longitude                       48895 non-null  float64\n",
      " 8   room_type                       48895 non-null  object \n",
      " 9   price                           48895 non-null  int64  \n",
      " 10  minimum_nights                  48895 non-null  int64  \n",
      " 11  number_of_reviews               48895 non-null  int64  \n",
      " 12  last_review                     48895 non-null  object \n",
      " 13  reviews_per_month               48895 non-null  float64\n",
      " 14  calculated_host_listings_count  48895 non-null  int64  \n",
      " 15  availability_365                48895 non-null  int64  \n",
      " 16  (latitude, longitude)           48895 non-null  object \n",
      "dtypes: float64(3), int64(7), object(7)\n",
      "memory usage: 6.3+ MB\n"
     ]
    }
   ],
   "source": [
    "# loading the pickled output file\n",
    "pickled_output_file = pd.read_pickle(os.path.join(path, config['file_names']['pickled_output_dataframe']))\n",
    "pickled_output_file.info()"
   ]
  },
  {
   "cell_type": "code",
   "execution_count": null,
   "id": "eee6defe",
   "metadata": {},
   "outputs": [],
   "source": []
  }
 ],
 "metadata": {
  "kernelspec": {
   "display_name": "Python 3 (ipykernel)",
   "language": "python",
   "name": "python3"
  },
  "language_info": {
   "codemirror_mode": {
    "name": "ipython",
    "version": 3
   },
   "file_extension": ".py",
   "mimetype": "text/x-python",
   "name": "python",
   "nbconvert_exporter": "python",
   "pygments_lexer": "ipython3",
   "version": "3.8.6"
  }
 },
 "nbformat": 4,
 "nbformat_minor": 5
}
