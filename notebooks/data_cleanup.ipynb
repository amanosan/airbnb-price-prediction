{
 "cells": [
  {
   "cell_type": "markdown",
   "id": "966a95fc",
   "metadata": {},
   "source": [
    "# Data Cleanup"
   ]
  },
  {
   "cell_type": "code",
   "execution_count": 25,
   "id": "e1f7d66b",
   "metadata": {},
   "outputs": [],
   "source": [
    "# importing the libraries\n",
    "from utils.DataIngestion import get_config, print_config, get_path, ingest_data\n",
    "from utils.HelperFunctions import negative_check, not_in_list, out_of_bounding_box, out_of_range\n",
    "\n",
    "import numpy as np\n",
    "import pandas as pd\n",
    "import matplotlib.pyplot as plt\n",
    "import seaborn as sns\n",
    "import os\n",
    "import logging\n",
    "import numbers"
   ]
  },
  {
   "cell_type": "markdown",
   "id": "c88de502",
   "metadata": {},
   "source": [
    "### Loading Data and Configurations"
   ]
  },
  {
   "cell_type": "code",
   "execution_count": 2,
   "id": "2b33a91e",
   "metadata": {},
   "outputs": [
    {
     "name": "stdout",
     "output_type": "stream",
     "text": [
      "Path is D:\\Machine Learning\\MACHINE LEARNING PROJECTS\\airbnb_price_prediction\\data\n",
      "Path, path_to_yaml: D:\\Machine Learning\\MACHINE LEARNING PROJECTS\\airbnb_price_prediction\\notebooks\\data_preparation_config.yml\n",
      "\n",
      "\n",
      "Config Value general --> {'load_from_scratch': False, 'save_raw_dataframe': False, 'save_transformed_dataframe': True, 'remove_bad_values': True}\n",
      "Config Value columns --> {'categorical': ['neighbourhood_group', 'room_type'], 'continuous': ['minimum_nights', 'number_of_reviews', 'reviews_per_month', 'calculated_host_listings_count', 'latitude', 'longitude'], 'date': ['last_review'], 'text': ['name', 'host_name'], 'excluded': ['price', 'id']}\n",
      "Config Value category_defaults --> {'categorical': 'missing', 'continuous': 0.0, 'text': 'missing', 'date': datetime.date(2019, 1, 1), 'excluded': 'missing'}\n",
      "Config Value category_invalid_replacements --> {'categorical': 'bad_categorical', 'continuous': 'bad_continuous', 'text': 'bad_text', 'date': 'bad_date', 'excluded': 'bad_excluded'}\n",
      "Config Value latitude_replacement --> bad_latitude\n",
      "Config Value longitude_replacement --> bad_longitude\n",
      "Config Value non_negative_continuous --> ['minimum_nights', 'number_of_reviews', 'reviews_per_month', 'calculated_host_listings_count']\n",
      "Config Value valid_values --> {'neighbourhood_group': ['Bronx', 'Brooklyn', 'Queens', 'Manhattan', 'Staten Island'], 'room_type': ['Private room', 'Shared room', 'Entire home/apt']}\n",
      "Config Value bounding_box --> {'max_long': -73.70018092, 'max_lat': 40.91617849, 'min_long': -74.25909008, 'min_lat': 40.47739894}\n",
      "Config Value newark_bounding_box --> {'max_long': -74.11278706, 'max_lat': 40.67325015, 'min_long': -74.25132408, 'min_lat': 40.78813864}\n",
      "Config Value geo_columns --> ['latitude', 'longitude']\n",
      "Config Value file_names --> {'input_csv': 'AB_NYC_2019.csv', 'pickled_input_dataframe': 'AB_NYC_2019_input_nov8.pkl', 'pickled_output_dataframe': 'AB_NYC_2019_output_nov8.pkl'}\n"
     ]
    }
   ],
   "source": [
    "# let's load the dataframe and configuration files\n",
    "path = get_path()\n",
    "print(f\"Path is {path}\")\n",
    "\n",
    "config = get_config(\"data_preparation_config.yml\")\n",
    "print_config(config)"
   ]
  },
  {
   "cell_type": "code",
   "execution_count": 3,
   "id": "e112f11f",
   "metadata": {},
   "outputs": [
    {
     "data": {
      "text/html": [
       "<div>\n",
       "<style scoped>\n",
       "    .dataframe tbody tr th:only-of-type {\n",
       "        vertical-align: middle;\n",
       "    }\n",
       "\n",
       "    .dataframe tbody tr th {\n",
       "        vertical-align: top;\n",
       "    }\n",
       "\n",
       "    .dataframe thead th {\n",
       "        text-align: right;\n",
       "    }\n",
       "</style>\n",
       "<table border=\"1\" class=\"dataframe\">\n",
       "  <thead>\n",
       "    <tr style=\"text-align: right;\">\n",
       "      <th></th>\n",
       "      <th>id</th>\n",
       "      <th>name</th>\n",
       "      <th>host_id</th>\n",
       "      <th>host_name</th>\n",
       "      <th>neighbourhood_group</th>\n",
       "      <th>neighbourhood</th>\n",
       "      <th>latitude</th>\n",
       "      <th>longitude</th>\n",
       "      <th>room_type</th>\n",
       "      <th>price</th>\n",
       "      <th>minimum_nights</th>\n",
       "      <th>number_of_reviews</th>\n",
       "      <th>last_review</th>\n",
       "      <th>reviews_per_month</th>\n",
       "      <th>calculated_host_listings_count</th>\n",
       "      <th>availability_365</th>\n",
       "    </tr>\n",
       "  </thead>\n",
       "  <tbody>\n",
       "    <tr>\n",
       "      <th>0</th>\n",
       "      <td>2539</td>\n",
       "      <td>Clean &amp; quiet apt home by the park</td>\n",
       "      <td>2787</td>\n",
       "      <td>John</td>\n",
       "      <td>Brooklyn</td>\n",
       "      <td>Kensington</td>\n",
       "      <td>40.64749</td>\n",
       "      <td>-73.97237</td>\n",
       "      <td>Private room</td>\n",
       "      <td>149</td>\n",
       "      <td>1</td>\n",
       "      <td>9</td>\n",
       "      <td>2018-10-19</td>\n",
       "      <td>0.21</td>\n",
       "      <td>6</td>\n",
       "      <td>365</td>\n",
       "    </tr>\n",
       "    <tr>\n",
       "      <th>1</th>\n",
       "      <td>2595</td>\n",
       "      <td>Skylit Midtown Castle</td>\n",
       "      <td>2845</td>\n",
       "      <td>Jennifer</td>\n",
       "      <td>Manhattan</td>\n",
       "      <td>Midtown</td>\n",
       "      <td>40.75362</td>\n",
       "      <td>-73.98377</td>\n",
       "      <td>Entire home/apt</td>\n",
       "      <td>225</td>\n",
       "      <td>1</td>\n",
       "      <td>45</td>\n",
       "      <td>2019-05-21</td>\n",
       "      <td>0.38</td>\n",
       "      <td>2</td>\n",
       "      <td>355</td>\n",
       "    </tr>\n",
       "    <tr>\n",
       "      <th>2</th>\n",
       "      <td>3647</td>\n",
       "      <td>THE VILLAGE OF HARLEM....NEW YORK !</td>\n",
       "      <td>4632</td>\n",
       "      <td>Elisabeth</td>\n",
       "      <td>Manhattan</td>\n",
       "      <td>Harlem</td>\n",
       "      <td>40.80902</td>\n",
       "      <td>-73.94190</td>\n",
       "      <td>Private room</td>\n",
       "      <td>150</td>\n",
       "      <td>3</td>\n",
       "      <td>0</td>\n",
       "      <td>NaN</td>\n",
       "      <td>NaN</td>\n",
       "      <td>1</td>\n",
       "      <td>365</td>\n",
       "    </tr>\n",
       "    <tr>\n",
       "      <th>3</th>\n",
       "      <td>3831</td>\n",
       "      <td>Cozy Entire Floor of Brownstone</td>\n",
       "      <td>4869</td>\n",
       "      <td>LisaRoxanne</td>\n",
       "      <td>Brooklyn</td>\n",
       "      <td>Clinton Hill</td>\n",
       "      <td>40.68514</td>\n",
       "      <td>-73.95976</td>\n",
       "      <td>Entire home/apt</td>\n",
       "      <td>89</td>\n",
       "      <td>1</td>\n",
       "      <td>270</td>\n",
       "      <td>2019-07-05</td>\n",
       "      <td>4.64</td>\n",
       "      <td>1</td>\n",
       "      <td>194</td>\n",
       "    </tr>\n",
       "    <tr>\n",
       "      <th>4</th>\n",
       "      <td>5022</td>\n",
       "      <td>Entire Apt: Spacious Studio/Loft by central park</td>\n",
       "      <td>7192</td>\n",
       "      <td>Laura</td>\n",
       "      <td>Manhattan</td>\n",
       "      <td>East Harlem</td>\n",
       "      <td>40.79851</td>\n",
       "      <td>-73.94399</td>\n",
       "      <td>Entire home/apt</td>\n",
       "      <td>80</td>\n",
       "      <td>10</td>\n",
       "      <td>9</td>\n",
       "      <td>2018-11-19</td>\n",
       "      <td>0.10</td>\n",
       "      <td>1</td>\n",
       "      <td>0</td>\n",
       "    </tr>\n",
       "  </tbody>\n",
       "</table>\n",
       "</div>"
      ],
      "text/plain": [
       "     id                                              name  host_id  \\\n",
       "0  2539                Clean & quiet apt home by the park     2787   \n",
       "1  2595                             Skylit Midtown Castle     2845   \n",
       "2  3647               THE VILLAGE OF HARLEM....NEW YORK !     4632   \n",
       "3  3831                   Cozy Entire Floor of Brownstone     4869   \n",
       "4  5022  Entire Apt: Spacious Studio/Loft by central park     7192   \n",
       "\n",
       "     host_name neighbourhood_group neighbourhood  latitude  longitude  \\\n",
       "0         John            Brooklyn    Kensington  40.64749  -73.97237   \n",
       "1     Jennifer           Manhattan       Midtown  40.75362  -73.98377   \n",
       "2    Elisabeth           Manhattan        Harlem  40.80902  -73.94190   \n",
       "3  LisaRoxanne            Brooklyn  Clinton Hill  40.68514  -73.95976   \n",
       "4        Laura           Manhattan   East Harlem  40.79851  -73.94399   \n",
       "\n",
       "         room_type  price  minimum_nights  number_of_reviews last_review  \\\n",
       "0     Private room    149               1                  9  2018-10-19   \n",
       "1  Entire home/apt    225               1                 45  2019-05-21   \n",
       "2     Private room    150               3                  0         NaN   \n",
       "3  Entire home/apt     89               1                270  2019-07-05   \n",
       "4  Entire home/apt     80              10                  9  2018-11-19   \n",
       "\n",
       "   reviews_per_month  calculated_host_listings_count  availability_365  \n",
       "0               0.21                               6               365  \n",
       "1               0.38                               2               355  \n",
       "2                NaN                               1               365  \n",
       "3               4.64                               1               194  \n",
       "4               0.10                               1                 0  "
      ]
     },
     "execution_count": 3,
     "metadata": {},
     "output_type": "execute_result"
    }
   ],
   "source": [
    "# loading the data\n",
    "df = ingest_data(path=path,\n",
    "                input_csv=config['file_names']['input_csv'],\n",
    "                pickled_input_dataframe=config['file_names']['pickled_input_dataframe'],\n",
    "                save_raw_dataframe=config['general']['save_raw_dataframe'],\n",
    "                load_from_scratch=config['general']['load_from_scratch'])\n",
    "df.head()"
   ]
  },
  {
   "cell_type": "code",
   "execution_count": 4,
   "id": "41cfed7e",
   "metadata": {},
   "outputs": [
    {
     "name": "stdout",
     "output_type": "stream",
     "text": [
      "<class 'pandas.core.frame.DataFrame'>\n",
      "RangeIndex: 48895 entries, 0 to 48894\n",
      "Data columns (total 16 columns):\n",
      " #   Column                          Non-Null Count  Dtype  \n",
      "---  ------                          --------------  -----  \n",
      " 0   id                              48895 non-null  int64  \n",
      " 1   name                            48879 non-null  object \n",
      " 2   host_id                         48895 non-null  int64  \n",
      " 3   host_name                       48874 non-null  object \n",
      " 4   neighbourhood_group             48895 non-null  object \n",
      " 5   neighbourhood                   48895 non-null  object \n",
      " 6   latitude                        48895 non-null  float64\n",
      " 7   longitude                       48895 non-null  float64\n",
      " 8   room_type                       48895 non-null  object \n",
      " 9   price                           48895 non-null  int64  \n",
      " 10  minimum_nights                  48895 non-null  int64  \n",
      " 11  number_of_reviews               48895 non-null  int64  \n",
      " 12  last_review                     38843 non-null  object \n",
      " 13  reviews_per_month               38843 non-null  float64\n",
      " 14  calculated_host_listings_count  48895 non-null  int64  \n",
      " 15  availability_365                48895 non-null  int64  \n",
      "dtypes: float64(3), int64(7), object(6)\n",
      "memory usage: 6.0+ MB\n"
     ]
    }
   ],
   "source": [
    "df.info()"
   ]
  },
  {
   "cell_type": "markdown",
   "id": "5c9d82fe",
   "metadata": {},
   "source": [
    "### General Cleaning "
   ]
  },
  {
   "cell_type": "markdown",
   "id": "c52c7700",
   "metadata": {},
   "source": [
    "#### Replacing Numeric and Categorical Variables"
   ]
  },
  {
   "cell_type": "code",
   "execution_count": 5,
   "id": "cb38c2d7",
   "metadata": {},
   "outputs": [],
   "source": [
    "def replace_if_not_in_list(x, replace_x, lst):\n",
    "    ''' check if a value is in a list\n",
    "    Args:\n",
    "        x: value to check\n",
    "        replace_x: replacement value\n",
    "        lst: list in which to check for the value\n",
    "    Returns: \n",
    "        x if value is in not in list, replace_x otherwise\n",
    "    '''\n",
    "    if x in lst:\n",
    "        return x\n",
    "    else:\n",
    "        return replace_x"
   ]
  },
  {
   "cell_type": "code",
   "execution_count": 6,
   "id": "4a09db6b",
   "metadata": {},
   "outputs": [],
   "source": [
    "def replace_if_non_numeric(x, replace_x):\n",
    "    ''' check if a value is non-numeric and replace if so\n",
    "    Args:\n",
    "        x: value to check\n",
    "        replace_x: replacement value\n",
    "    Returns: \n",
    "        x if value is numeric, replace_x otherwise\n",
    "    '''\n",
    "    if isinstance(x, numbers.Number):\n",
    "        return x\n",
    "    else:\n",
    "        return replace_x"
   ]
  },
  {
   "cell_type": "code",
   "execution_count": 7,
   "id": "c5f51ffc",
   "metadata": {},
   "outputs": [],
   "source": [
    "def replace_if_negative(x, replace_x):\n",
    "    ''' checks if a value is negative if so replaces it\n",
    "    Args:\n",
    "        x: value to check\n",
    "        replace_x: replacement value\n",
    "    Returns: \n",
    "        x if value is not negative, replace_x otherwise\n",
    "    '''\n",
    "    if x >= 0:\n",
    "        return x\n",
    "    else:\n",
    "        return replace_x"
   ]
  },
  {
   "cell_type": "code",
   "execution_count": 8,
   "id": "0ff5d87b",
   "metadata": {},
   "outputs": [],
   "source": [
    "# main function to replace invalid values\n",
    "def replace_invalid_values(df, columns, valid_values, invalid_value_replacements, non_neg_continuous):\n",
    "    ''' replace invalid with placeholders\n",
    "    Args:\n",
    "        df: dataframe for assessment\n",
    "        columns: dictionary of column names by category\n",
    "        valid_values: dictionary of valid values for categorical columns\n",
    "        invalid_value_replacements: dictionary of replacement values\n",
    "        non_neg_continuous: list of continuous columns with only non-negative values as valid\n",
    "    Returns:\n",
    "        df: updated dataframe\n",
    "    '''\n",
    "    # categorical columns \n",
    "    for col in columns['categorical']:\n",
    "        print(f\"Non valid values in {col}: {df[col].apply(lambda x: not_in_list(x, valid_values[col])).sum()}\")\n",
    "        df[col] = df[col].apply(lambda x: replace_if_not_in_list(x, invalid_value_replacements['categorical'], valid_values[col]))\n",
    "        \n",
    "    # continuous columns\n",
    "    for col in columns['continuous']:\n",
    "        # replace non-numeric values\n",
    "        df[col] = df[col].apply(lambda x: replace_if_non_numeric(x, invalid_value_replacements['continuous']))\n",
    "        # replace if negative\n",
    "        if col in non_neg_continuous:\n",
    "            df[col] = df[col].apply(lambda x: replace_if_negative(x, invalid_value_replacements['continuous']))\n",
    "            \n",
    "    return df"
   ]
  },
  {
   "cell_type": "markdown",
   "id": "fa1f7a55",
   "metadata": {},
   "source": [
    "#### Replacing Geospatial Variables"
   ]
  },
  {
   "cell_type": "code",
   "execution_count": 9,
   "id": "93c7966c",
   "metadata": {},
   "outputs": [],
   "source": [
    "def replace_if_outside_bounding_box(latitude, longitude, replace_lat, replace_long, bounding_box):\n",
    "    ''' check whether longitude and latitude values are outside bounding box\n",
    "    Args:\n",
    "        latitude: latitude portion of location\n",
    "        longitude: longitude portion of location\n",
    "        replace_lat: replacement value for latitude\n",
    "        replace_long: replacement value for longitude\n",
    "        bounding_box: dictionary with max and min value to compare to.\n",
    "    Returns:\n",
    "        latitude, longitude: 1 if out of range, 0 otherwise\n",
    "    '''\n",
    "    if (latitude > bounding_box['max_lat'] or latitude < bounding_box['min_lat']) \\\n",
    "    or (longitude > bounding_box['max_long'] or longitude < bounding_box['min_long']):\n",
    "        latitude = replace_lat\n",
    "        longitude = replace_long\n",
    "    return (latitude, longitude)"
   ]
  },
  {
   "cell_type": "code",
   "execution_count": 10,
   "id": "8861408f",
   "metadata": {},
   "outputs": [],
   "source": [
    "# the main function to replace geospatial data\n",
    "def geo_replacement(df, replace_lat, replace_long, bounding_box):\n",
    "    ''' assess the geospatial data by checking values of longitude and latitude\n",
    "    Args:\n",
    "        df: dataframe to assess\n",
    "        replace_lat: replacement for latitude value\n",
    "        replace_long: replacement for longitude value\n",
    "        bounding_box: dictionary of max and min values of bounding box\n",
    "    Returns:\n",
    "        df: updated dataframe\n",
    "    '''\n",
    "    df['latitude', 'longitude'] = df.apply(lambda x: replace_if_outside_bounding_box(x.latitude, x.longitude, replace_lat, replace_long, bounding_box), axis=1)\n",
    "    return df\n"
   ]
  },
  {
   "cell_type": "markdown",
   "id": "9550b284",
   "metadata": {},
   "source": [
    "### Master Cell"
   ]
  },
  {
   "cell_type": "code",
   "execution_count": 11,
   "id": "126e352b",
   "metadata": {},
   "outputs": [
    {
     "name": "stdout",
     "output_type": "stream",
     "text": [
      "Columns: {'categorical': ['neighbourhood_group', 'room_type'], 'continuous': ['minimum_nights', 'number_of_reviews', 'reviews_per_month', 'calculated_host_listings_count', 'latitude', 'longitude'], 'date': ['last_review'], 'text': ['name', 'host_name'], 'excluded': ['price', 'id']}\n",
      "--------------------------------------------------------------------------------\n",
      "Category defaults: {'categorical': 'missing', 'continuous': 0.0, 'text': 'missing', 'date': datetime.date(2019, 1, 1), 'excluded': 'missing'}\n"
     ]
    }
   ],
   "source": [
    "print(f\"Columns: {config['columns']}\")\n",
    "print(\"-\" * 80)\n",
    "print(f\"Category defaults: {config['category_defaults']}\")"
   ]
  },
  {
   "cell_type": "code",
   "execution_count": 13,
   "id": "6d33987c",
   "metadata": {},
   "outputs": [
    {
     "name": "stdout",
     "output_type": "stream",
     "text": [
      "Non valid values in neighbourhood_group: 0\n",
      "Non valid values in room_type: 0\n"
     ]
    }
   ],
   "source": [
    "# replacing invalid values\n",
    "df = replace_invalid_values(df=df,\n",
    "                           columns=config['columns'],\n",
    "                           valid_values=config['valid_values'],\n",
    "                           invalid_value_replacements=config['category_invalid_replacements'],\n",
    "                           non_neg_continuous=config['non_negative_continuous'])"
   ]
  },
  {
   "cell_type": "code",
   "execution_count": 14,
   "id": "549705cf",
   "metadata": {},
   "outputs": [
    {
     "name": "stdout",
     "output_type": "stream",
     "text": [
      "<class 'pandas.core.frame.DataFrame'>\n",
      "RangeIndex: 48895 entries, 0 to 48894\n",
      "Data columns (total 16 columns):\n",
      " #   Column                          Non-Null Count  Dtype  \n",
      "---  ------                          --------------  -----  \n",
      " 0   id                              48895 non-null  int64  \n",
      " 1   name                            48879 non-null  object \n",
      " 2   host_id                         48895 non-null  int64  \n",
      " 3   host_name                       48874 non-null  object \n",
      " 4   neighbourhood_group             48895 non-null  object \n",
      " 5   neighbourhood                   48895 non-null  object \n",
      " 6   latitude                        48895 non-null  float64\n",
      " 7   longitude                       48895 non-null  float64\n",
      " 8   room_type                       48895 non-null  object \n",
      " 9   price                           48895 non-null  int64  \n",
      " 10  minimum_nights                  48895 non-null  int64  \n",
      " 11  number_of_reviews               48895 non-null  int64  \n",
      " 12  last_review                     38843 non-null  object \n",
      " 13  reviews_per_month               48895 non-null  object \n",
      " 14  calculated_host_listings_count  48895 non-null  int64  \n",
      " 15  availability_365                48895 non-null  int64  \n",
      "dtypes: float64(2), int64(7), object(7)\n",
      "memory usage: 6.0+ MB\n"
     ]
    }
   ],
   "source": [
    "df.info()"
   ]
  },
  {
   "cell_type": "code",
   "execution_count": 15,
   "id": "f4255ae5",
   "metadata": {},
   "outputs": [],
   "source": [
    "# replacing geospatial data\n",
    "df = geo_replacement(df, config['latitude_replacement'], config['longitude_replacement'], config['bounding_box'])"
   ]
  },
  {
   "cell_type": "code",
   "execution_count": 16,
   "id": "1224d76a",
   "metadata": {},
   "outputs": [
    {
     "name": "stdout",
     "output_type": "stream",
     "text": [
      "<class 'pandas.core.frame.DataFrame'>\n",
      "RangeIndex: 48895 entries, 0 to 48894\n",
      "Data columns (total 17 columns):\n",
      " #   Column                          Non-Null Count  Dtype  \n",
      "---  ------                          --------------  -----  \n",
      " 0   id                              48895 non-null  int64  \n",
      " 1   name                            48879 non-null  object \n",
      " 2   host_id                         48895 non-null  int64  \n",
      " 3   host_name                       48874 non-null  object \n",
      " 4   neighbourhood_group             48895 non-null  object \n",
      " 5   neighbourhood                   48895 non-null  object \n",
      " 6   latitude                        48895 non-null  float64\n",
      " 7   longitude                       48895 non-null  float64\n",
      " 8   room_type                       48895 non-null  object \n",
      " 9   price                           48895 non-null  int64  \n",
      " 10  minimum_nights                  48895 non-null  int64  \n",
      " 11  number_of_reviews               48895 non-null  int64  \n",
      " 12  last_review                     38843 non-null  object \n",
      " 13  reviews_per_month               48895 non-null  object \n",
      " 14  calculated_host_listings_count  48895 non-null  int64  \n",
      " 15  availability_365                48895 non-null  int64  \n",
      " 16  (latitude, longitude)           48895 non-null  object \n",
      "dtypes: float64(2), int64(7), object(8)\n",
      "memory usage: 6.3+ MB\n"
     ]
    }
   ],
   "source": [
    "df.info()"
   ]
  },
  {
   "cell_type": "code",
   "execution_count": 18,
   "id": "eed0a165",
   "metadata": {},
   "outputs": [
    {
     "data": {
      "text/plain": [
       "id                                    0\n",
       "name                                 16\n",
       "host_id                               0\n",
       "host_name                            21\n",
       "neighbourhood_group                   0\n",
       "neighbourhood                         0\n",
       "latitude                              0\n",
       "longitude                             0\n",
       "room_type                             0\n",
       "price                                 0\n",
       "minimum_nights                        0\n",
       "number_of_reviews                     0\n",
       "last_review                       10052\n",
       "reviews_per_month                     0\n",
       "calculated_host_listings_count        0\n",
       "availability_365                      0\n",
       "(latitude, longitude)                 0\n",
       "dtype: int64"
      ]
     },
     "execution_count": 18,
     "metadata": {},
     "output_type": "execute_result"
    }
   ],
   "source": [
    "# checking the number of null values now:\n",
    "df.isnull().sum()"
   ]
  },
  {
   "cell_type": "code",
   "execution_count": 20,
   "id": "06b547c4",
   "metadata": {},
   "outputs": [
    {
     "data": {
      "text/plain": [
       "id                                0\n",
       "name                              0\n",
       "host_id                           0\n",
       "host_name                         0\n",
       "neighbourhood_group               0\n",
       "neighbourhood                     0\n",
       "latitude                          0\n",
       "longitude                         0\n",
       "room_type                         0\n",
       "price                             0\n",
       "minimum_nights                    0\n",
       "number_of_reviews                 0\n",
       "last_review                       0\n",
       "reviews_per_month                 0\n",
       "calculated_host_listings_count    0\n",
       "availability_365                  0\n",
       "(latitude, longitude)             0\n",
       "dtype: int64"
      ]
     },
     "execution_count": 20,
     "metadata": {},
     "output_type": "execute_result"
    }
   ],
   "source": [
    "# Let's fill the NA values:\n",
    "df['last_review'].fillna(\"NotReviewed\", inplace=True)\n",
    "df['host_name'].fillna(\"NoName\", inplace=True)\n",
    "df['name'].fillna(\"NoName\", inplace=True)\n",
    "\n",
    "# checking null values\n",
    "df.isnull().sum()"
   ]
  },
  {
   "cell_type": "markdown",
   "id": "1861a4a4",
   "metadata": {},
   "source": [
    "###### Let's look at the price:"
   ]
  },
  {
   "cell_type": "code",
   "execution_count": 22,
   "id": "8a0eea92",
   "metadata": {},
   "outputs": [
    {
     "data": {
      "text/plain": [
       "count    48895.000000\n",
       "mean       152.720687\n",
       "std        240.154170\n",
       "min          0.000000\n",
       "25%         69.000000\n",
       "50%        106.000000\n",
       "75%        175.000000\n",
       "max      10000.000000\n",
       "Name: price, dtype: float64"
      ]
     },
     "execution_count": 22,
     "metadata": {},
     "output_type": "execute_result"
    }
   ],
   "source": [
    "df['price'].describe()"
   ]
  },
  {
   "cell_type": "markdown",
   "id": "df0aa0a2",
   "metadata": {},
   "source": [
    "- *The max value of 'Price' is 10000.*\n",
    "- *This was either an error during input of the data or these properties are super expensive.*\n",
    "\n",
    "*Let's explore more to find out.*"
   ]
  },
  {
   "cell_type": "code",
   "execution_count": 28,
   "id": "aff6debf",
   "metadata": {},
   "outputs": [
    {
     "data": {
      "image/png": "[encoded data removed]",
      "text/plain": [
       "<Figure size 432x288 with 1 Axes>"
      ]
     },
     "metadata": {
      "needs_background": "light"
     },
     "output_type": "display_data"
    }
   ],
   "source": [
    "sns.kdeplot(x='price', data=df);"
   ]
  },
  {
   "cell_type": "code",
   "execution_count": 30,
   "id": "d7cc9f2a",
   "metadata": {},
   "outputs": [
    {
     "data": {
      "text/plain": [
       "<AxesSubplot:>"
      ]
     },
     "execution_count": 30,
     "metadata": {},
     "output_type": "execute_result"
    },
    {
     "data": {
      "image/png": "[encoded data removed]",
      "text/plain": [
       "<Figure size 432x288 with 1 Axes>"
      ]
     },
     "metadata": {
      "needs_background": "light"
     },
     "output_type": "display_data"
    }
   ],
   "source": [
    "# Let's look at prices less than 2000\n",
    "df[df['price'] < 2000]['price'].hist();"
   ]
  },
  {
   "cell_type": "code",
   "execution_count": 32,
   "id": "65b3a855",
   "metadata": {},
   "outputs": [
    {
     "data": {
      "text/plain": [
       "86"
      ]
     },
     "execution_count": 32,
     "metadata": {},
     "output_type": "execute_result"
    }
   ],
   "source": [
    "# Let's see how many listings are priced at greater than 2000\n",
    "df[df['price'] > 2000]['price'].count()"
   ]
  },
  {
   "cell_type": "code",
   "execution_count": 33,
   "id": "71190c0c",
   "metadata": {},
   "outputs": [],
   "source": [
    "# Dropping these values\n",
    "df = df[df['price'] < 2000]"
   ]
  },
  {
   "cell_type": "code",
   "execution_count": 35,
   "id": "c26c213b",
   "metadata": {},
   "outputs": [
    {
     "data": {
      "image/png": "[encoded data removed]",
      "text/plain": [
       "<Figure size 432x288 with 1 Axes>"
      ]
     },
     "metadata": {
      "needs_background": "light"
     },
     "output_type": "display_data"
    }
   ],
   "source": [
    "# We need to take a threshold value\n",
    "df[df['price'] < 300]['price'].hist();"
   ]
  },
  {
   "cell_type": "markdown",
   "id": "42ffd9c0",
   "metadata": {},
   "source": [
    "- *We see more of a Gaussian Distribution around after setting threshold value to 300.*"
   ]
  },
  {
   "cell_type": "code",
   "execution_count": 36,
   "id": "c0c81ecb",
   "metadata": {},
   "outputs": [
    {
     "data": {
      "text/plain": [
       "44977"
      ]
     },
     "execution_count": 36,
     "metadata": {},
     "output_type": "execute_result"
    }
   ],
   "source": [
    "df[df['price'] < 300]['price'].count()"
   ]
  },
  {
   "cell_type": "markdown",
   "id": "bb2e46bc",
   "metadata": {},
   "source": [
    "- *We still ahve 44977 records after setting the threshold to 300*\n",
    "- *We treat any price above 300 as outliers and we can drop those records*"
   ]
  },
  {
   "cell_type": "code",
   "execution_count": 38,
   "id": "6fa43023",
   "metadata": {},
   "outputs": [
    {
     "data": {
      "text/plain": [
       "(44977, 17)"
      ]
     },
     "execution_count": 38,
     "metadata": {},
     "output_type": "execute_result"
    }
   ],
   "source": [
    "# dropping the price outliers\n",
    "df = df[df['price'] < 300]\n",
    "df.shape"
   ]
  },
  {
   "cell_type": "code",
   "execution_count": 40,
   "id": "6eb001d9",
   "metadata": {},
   "outputs": [
    {
     "data": {
      "text/plain": [
       "count    44977.000000\n",
       "mean       116.017520\n",
       "std         63.095803\n",
       "min          0.000000\n",
       "25%         65.000000\n",
       "50%        100.000000\n",
       "75%        150.000000\n",
       "max        299.000000\n",
       "Name: price, dtype: float64"
      ]
     },
     "execution_count": 40,
     "metadata": {},
     "output_type": "execute_result"
    }
   ],
   "source": [
    "# let's look at the statistics of the price column again\n",
    "df['price'].describe()"
   ]
  },
  {
   "cell_type": "code",
   "execution_count": 44,
   "id": "e9d4ca5b",
   "metadata": {},
   "outputs": [
    {
     "data": {
      "image/png": "[encoded data removed]",
      "text/plain": [
       "<Figure size 432x288 with 1 Axes>"
      ]
     },
     "metadata": {
      "needs_background": "light"
     },
     "output_type": "display_data"
    }
   ],
   "source": [
    "# distribution:\n",
    "sns.kdeplot('price', data=df);"
   ]
  },
  {
   "cell_type": "markdown",
   "id": "b2e0021d",
   "metadata": {},
   "source": [
    "- Average Price: 116.0, Price varies between 0 and 299"
   ]
  },
  {
   "cell_type": "markdown",
   "id": "9566e9a7",
   "metadata": {},
   "source": [
    "###### Let's look at the Minimum Nights"
   ]
  },
  {
   "cell_type": "code",
   "execution_count": 41,
   "id": "2b9b08b5",
   "metadata": {},
   "outputs": [
    {
     "data": {
      "text/plain": [
       "count    44977.000000\n",
       "mean         6.904996\n",
       "std         19.891975\n",
       "min          1.000000\n",
       "25%          1.000000\n",
       "50%          2.000000\n",
       "75%          5.000000\n",
       "max       1250.000000\n",
       "Name: minimum_nights, dtype: float64"
      ]
     },
     "execution_count": 41,
     "metadata": {},
     "output_type": "execute_result"
    }
   ],
   "source": [
    "# statistical summary\n",
    "df['minimum_nights'].describe()"
   ]
  },
  {
   "cell_type": "markdown",
   "id": "76f57dba",
   "metadata": {},
   "source": [
    "- The range is between 0 to 1250.\n",
    "- The maximum value of 1250 is not correct."
   ]
  },
  {
   "cell_type": "code",
   "execution_count": 45,
   "id": "a2485c51",
   "metadata": {},
   "outputs": [
    {
     "data": {
      "image/png": "[encoded data removed]",
      "text/plain": [
       "<Figure size 720x504 with 1 Axes>"
      ]
     },
     "metadata": {
      "needs_background": "light"
     },
     "output_type": "display_data"
    }
   ],
   "source": [
    "# distribution of the data:\n",
    "fig, ax = plt.subplots(figsize=(10, 7))\n",
    "sns.kdeplot('minimum_nights', data=df, ax=ax);"
   ]
  },
  {
   "cell_type": "markdown",
   "id": "d969daf1",
   "metadata": {},
   "source": [
    "- We see that almost all the values are less than 50."
   ]
  },
  {
   "cell_type": "code",
   "execution_count": 52,
   "id": "0667a886",
   "metadata": {},
   "outputs": [
    {
     "data": {
      "image/png": "[encoded data removed]",
      "text/plain": [
       "<Figure size 432x288 with 1 Axes>"
      ]
     },
     "metadata": {
      "needs_background": "light"
     },
     "output_type": "display_data"
    }
   ],
   "source": [
    "# lets look at distribution of minimum nights less than 50\n",
    "sns.kdeplot(df[df['minimum_nights'] < 50]['minimum_nights']);"
   ]
  },
  {
   "cell_type": "markdown",
   "id": "4658f111",
   "metadata": {},
   "source": [
    "- We see jumps at around ~1 and then at ~15 and then at ~30.\n",
    "- We will replace all values greater than 30 to 30."
   ]
  },
  {
   "cell_type": "code",
   "execution_count": 54,
   "id": "eb3636cf",
   "metadata": {},
   "outputs": [],
   "source": [
    "df.loc[(df['minimum_nights'] > 30), 'minimum_nights'] = 30"
   ]
  },
  {
   "cell_type": "code",
   "execution_count": 56,
   "id": "76928a4c",
   "metadata": {},
   "outputs": [
    {
     "data": {
      "image/png": "[encoded data removed]",
      "text/plain": [
       "<Figure size 432x288 with 1 Axes>"
      ]
     },
     "metadata": {
      "needs_background": "light"
     },
     "output_type": "display_data"
    }
   ],
   "source": [
    "# lets look at the distribution now\n",
    "sns.kdeplot('minimum_nights', data=df);"
   ]
  },
  {
   "cell_type": "markdown",
   "id": "85b1dae6",
   "metadata": {},
   "source": [
    "##### Let's analyze the Availabilty column:"
   ]
  },
  {
   "cell_type": "code",
   "execution_count": 57,
   "id": "6ac1f883",
   "metadata": {},
   "outputs": [
    {
     "data": {
      "text/plain": [
       "count    44977.000000\n",
       "mean       108.634502\n",
       "std        130.039172\n",
       "min          0.000000\n",
       "25%          0.000000\n",
       "50%         38.000000\n",
       "75%        215.000000\n",
       "max        365.000000\n",
       "Name: availability_365, dtype: float64"
      ]
     },
     "execution_count": 57,
     "metadata": {},
     "output_type": "execute_result"
    }
   ],
   "source": [
    "df['availability_365'].describe()"
   ]
  },
  {
   "cell_type": "code",
   "execution_count": 58,
   "id": "ae1e890d",
   "metadata": {},
   "outputs": [
    {
     "data": {
      "image/png": "[encoded data removed]",
      "text/plain": [
       "<Figure size 432x288 with 1 Axes>"
      ]
     },
     "metadata": {
      "needs_background": "light"
     },
     "output_type": "display_data"
    }
   ],
   "source": [
    "# distribution:\n",
    "sns.kdeplot('availability_365', data=df);"
   ]
  },
  {
   "cell_type": "markdown",
   "id": "eb75d7b3",
   "metadata": {},
   "source": [
    "- The range looks fine -> from 0 to 365.\n",
    "- The distribution is positively or right skewed."
   ]
  },
  {
   "cell_type": "markdown",
   "id": "f326bff5",
   "metadata": {},
   "source": [
    "##### Replacing bad values"
   ]
  },
  {
   "cell_type": "code",
   "execution_count": 69,
   "id": "6f37114b",
   "metadata": {},
   "outputs": [],
   "source": [
    "df.loc[(df['reviews_per_month'] == 'bad_continuous'), \"reviews_per_month\"] = 0"
   ]
  },
  {
   "cell_type": "code",
   "execution_count": 73,
   "id": "d912381c",
   "metadata": {},
   "outputs": [
    {
     "data": {
      "text/plain": [
       "0"
      ]
     },
     "execution_count": 73,
     "metadata": {},
     "output_type": "execute_result"
    }
   ],
   "source": [
    "(df.reviews_per_month == 'bad_continuous').sum()"
   ]
  },
  {
   "cell_type": "markdown",
   "id": "51c3db12",
   "metadata": {},
   "source": [
    "##### Dropping the columns which are not useful for Modelling"
   ]
  },
  {
   "cell_type": "code",
   "execution_count": 75,
   "id": "749b293b",
   "metadata": {},
   "outputs": [
    {
     "data": {
      "text/plain": [
       "['id',\n",
       " 'name',\n",
       " 'host_id',\n",
       " 'host_name',\n",
       " 'neighbourhood_group',\n",
       " 'neighbourhood',\n",
       " 'latitude',\n",
       " 'longitude',\n",
       " 'room_type',\n",
       " 'price',\n",
       " 'minimum_nights',\n",
       " 'number_of_reviews',\n",
       " 'last_review',\n",
       " 'reviews_per_month',\n",
       " 'calculated_host_listings_count',\n",
       " 'availability_365',\n",
       " ('latitude', 'longitude')]"
      ]
     },
     "execution_count": 75,
     "metadata": {},
     "output_type": "execute_result"
    }
   ],
   "source": [
    "# list of columns\n",
    "list(df)"
   ]
  },
  {
   "cell_type": "code",
   "execution_count": 85,
   "id": "d0205638",
   "metadata": {},
   "outputs": [],
   "source": [
    "# columns to drop\n",
    "cols_to_drop = ['id', 'name', 'host_id', 'host_name', 'latitude', 'longitude', 'last_review']"
   ]
  },
  {
   "cell_type": "code",
   "execution_count": 88,
   "id": "0097d25f",
   "metadata": {},
   "outputs": [],
   "source": [
    "df = df.drop(cols_to_drop, axis=1)"
   ]
  },
  {
   "cell_type": "code",
   "execution_count": 104,
   "id": "fb56c0ba",
   "metadata": {},
   "outputs": [],
   "source": [
    "df = df[['neighbourhood_group',\n",
    " 'neighbourhood',\n",
    " 'room_type',\n",
    " 'price',\n",
    " 'minimum_nights',\n",
    " 'number_of_reviews',\n",
    " 'reviews_per_month',\n",
    " 'calculated_host_listings_count',\n",
    " 'availability_365']]"
   ]
  },
  {
   "cell_type": "code",
   "execution_count": 105,
   "id": "7a22f71c",
   "metadata": {},
   "outputs": [
    {
     "data": {
      "text/plain": [
       "['neighbourhood_group',\n",
       " 'neighbourhood',\n",
       " 'room_type',\n",
       " 'price',\n",
       " 'minimum_nights',\n",
       " 'number_of_reviews',\n",
       " 'reviews_per_month',\n",
       " 'calculated_host_listings_count',\n",
       " 'availability_365']"
      ]
     },
     "execution_count": 105,
     "metadata": {},
     "output_type": "execute_result"
    }
   ],
   "source": [
    "# after removing cols:\n",
    "list(df)"
   ]
  },
  {
   "cell_type": "markdown",
   "id": "42ef3530",
   "metadata": {},
   "source": [
    "##### Checking the Data Types of all columns:"
   ]
  },
  {
   "cell_type": "code",
   "execution_count": 106,
   "id": "ba040076",
   "metadata": {},
   "outputs": [
    {
     "data": {
      "text/plain": [
       "neighbourhood_group                object\n",
       "neighbourhood                      object\n",
       "room_type                          object\n",
       "price                               int64\n",
       "minimum_nights                      int64\n",
       "number_of_reviews                   int64\n",
       "reviews_per_month                 float64\n",
       "calculated_host_listings_count      int64\n",
       "availability_365                    int64\n",
       "dtype: object"
      ]
     },
     "execution_count": 106,
     "metadata": {},
     "output_type": "execute_result"
    }
   ],
   "source": [
    "df.dtypes"
   ]
  },
  {
   "cell_type": "markdown",
   "id": "9565d097",
   "metadata": {},
   "source": [
    "- `review_per_month` should be int64 not object."
   ]
  },
  {
   "cell_type": "code",
   "execution_count": 107,
   "id": "7d2d23f4",
   "metadata": {},
   "outputs": [],
   "source": [
    "# converting reviews_per_month to integer\n",
    "df['reviews_per_month'] = pd.to_numeric(df['reviews_per_month'])"
   ]
  },
  {
   "cell_type": "code",
   "execution_count": 108,
   "id": "dfff1e04",
   "metadata": {},
   "outputs": [
    {
     "data": {
      "text/plain": [
       "neighbourhood_group                object\n",
       "neighbourhood                      object\n",
       "room_type                          object\n",
       "price                               int64\n",
       "minimum_nights                      int64\n",
       "number_of_reviews                   int64\n",
       "reviews_per_month                 float64\n",
       "calculated_host_listings_count      int64\n",
       "availability_365                    int64\n",
       "dtype: object"
      ]
     },
     "execution_count": 108,
     "metadata": {},
     "output_type": "execute_result"
    }
   ],
   "source": [
    "df.dtypes"
   ]
  },
  {
   "cell_type": "markdown",
   "id": "a5efca21",
   "metadata": {},
   "source": [
    "##### Saving transformed data:"
   ]
  },
  {
   "cell_type": "code",
   "execution_count": 109,
   "id": "6a6427b1",
   "metadata": {},
   "outputs": [
    {
     "name": "stdout",
     "output_type": "stream",
     "text": [
      "Path: D:\\Machine Learning\\MACHINE LEARNING PROJECTS\\airbnb_price_prediction\\data\n",
      "File Name: D:\\Machine Learning\\MACHINE LEARNING PROJECTS\\airbnb_price_prediction\\data\\AB_NYC_2019_output_nov8.pkl\n"
     ]
    }
   ],
   "source": [
    "if config['general']['save_transformed_dataframe']:\n",
    "    print(\"Path:\", path)\n",
    "    filename = os.path.join(path, config['file_names']['pickled_output_dataframe'])\n",
    "    print(\"File Name:\", filename)\n",
    "    df.to_pickle(filename)"
   ]
  },
  {
   "cell_type": "code",
   "execution_count": 110,
   "id": "bf31144d",
   "metadata": {},
   "outputs": [
    {
     "name": "stdout",
     "output_type": "stream",
     "text": [
      "<class 'pandas.core.frame.DataFrame'>\n",
      "Int64Index: 44977 entries, 0 to 48894\n",
      "Data columns (total 9 columns):\n",
      " #   Column                          Non-Null Count  Dtype  \n",
      "---  ------                          --------------  -----  \n",
      " 0   neighbourhood_group             44977 non-null  object \n",
      " 1   neighbourhood                   44977 non-null  object \n",
      " 2   room_type                       44977 non-null  object \n",
      " 3   price                           44977 non-null  int64  \n",
      " 4   minimum_nights                  44977 non-null  int64  \n",
      " 5   number_of_reviews               44977 non-null  int64  \n",
      " 6   reviews_per_month               44977 non-null  float64\n",
      " 7   calculated_host_listings_count  44977 non-null  int64  \n",
      " 8   availability_365                44977 non-null  int64  \n",
      "dtypes: float64(1), int64(5), object(3)\n",
      "memory usage: 3.4+ MB\n"
     ]
    }
   ],
   "source": [
    "# loading the pickled output file\n",
    "pickled_output_file = pd.read_pickle(os.path.join(path, config['file_names']['pickled_output_dataframe']))\n",
    "pickled_output_file.info()"
   ]
  }
 ],
 "metadata": {
  "kernelspec": {
   "display_name": "Python 3 (ipykernel)",
   "language": "python",
   "name": "python3"
  },
  "language_info": {
   "codemirror_mode": {
    "name": "ipython",
    "version": 3
   },
   "file_extension": ".py",
   "mimetype": "text/x-python",
   "name": "python",
   "nbconvert_exporter": "python",
   "pygments_lexer": "ipython3",
   "version": "3.8.6"
  }
 },
 "nbformat": 4,
 "nbformat_minor": 5
}
